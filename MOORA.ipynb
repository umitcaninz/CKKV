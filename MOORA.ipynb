{
 "cells": [
  {
   "cell_type": "markdown",
   "id": "449c31d4",
   "metadata": {},
   "source": [
    "<h1 style=\"color:green;\">MOORA (Multi-Objective Optimization by Ratio Analysis)</h1>"
   ]
  },
  {
   "cell_type": "markdown",
   "id": "7c43b690",
   "metadata": {},
   "source": [
    "<p style=\"font-size:15px; font-weight:bold;\"> MOORA (Multi-Objective Optimization by Ratio Analysis), çok kriterli karar verme problemlerinde (MCDM) alternatifler arasından en uygun olanı seçmek için kullanılan bir yöntemdir.</p>\n",
    "<p style=\"font-size:15px; font-weight:bold;\">Bu yöntem, her bir kriter için alternatiflerin performanslarını karşılaştırarak ve belirli bir oranlama sistemi kullanarak bir puanlama tablosu oluşturur. En yüksek puanı alan alternatif en uygun alternatif olarak seçilir.  </p>"
   ]
  },
  {
   "cell_type": "markdown",
   "id": "a15638b7",
   "metadata": {},
   "source": [
    "<h3 style=\"color:green;\">MOORA Yönteminin Diğer Yöntemlere Göre Farkları:</h3>"
   ]
  },
  {
   "cell_type": "markdown",
   "id": "a1ee66b6",
   "metadata": {},
   "source": [
    "<h3 style=\"color:green;\">1)TOPSIS</h3>\n",
    "<p style=\"font-size:15px; font-weight:bold;\"> - MOORA, ideal çözüme olan uzaklık ve referans noktasına olan yakınlık gibi kavramları kullanmaz.</p>\n",
    "<p style=\"font-size:15px; font-weight:bold;\"> - TOPSIS'te ideal ve anti-ideal çözümler önceden belirlenirken, MOORA'da referans noktası normalleştirilmiş performansların ortalaması olarak hesaplanır.</p>"
   ]
  },
  {
   "cell_type": "markdown",
   "id": "246e457a",
   "metadata": {},
   "source": [
    "<h3 style=\"color:green;\">2)VIKOR </h3>\n",
    "<p style=\"font-size:15px; font-weight:bold;\"> - MOORA, VIKOR'da kullanılan \"fazla arz\" ve \"fazla talep\" fonksiyonlarını kullanmaz.</p>\n",
    "<p style=\"font-size:15px; font-weight:bold;\"> - VIKOR, uzlaşma ve karar verme endeksleri ile alternatifleri sıralarken, MOORA sadece puanlama tablosu kullanır.</p>"
   ]
  },
  {
   "cell_type": "markdown",
   "id": "24fda783",
   "metadata": {},
   "source": [
    "<h3 style=\"color:green;\">3)PROMETHEE  </h3>\n",
    "<p style=\"font-size:15px; font-weight:bold;\"> - MOORA, PROMETHEE'de kullanılan tercihli eşitlikler ve tercihli dengesizlikler gibi kavramları kullanmaz.</p>\n",
    "<p style=\"font-size:15px; font-weight:bold;\"> -PROMETHEE, alternatifler arasındaki eşitlik ve dengesizlikleri değerlendirerek bir sıra oluştururken, MOORA her kriter için puanlama yapar.</p>"
   ]
  },
  {
   "cell_type": "markdown",
   "id": "d4bc29c7",
   "metadata": {},
   "source": [
    "<h2 style=\"color:green;\">MOORA Yöntemini Tercih Etme Durumları:\n",
    "\n",
    "</h2>\n",
    "<p style=\"font-size:15px; font-weight:bold;\"> - Birden fazla kritere göre değerlendirilen alternatifler arasında en uygun olanı seçmek istiyorsanız.</p>\n",
    "<p style=\"font-size:15px; font-weight:bold;\"> - Farklı birimlere sahip kriterleri karşılaştırılabilir hale getirmek istiyorsanız.\n",
    "</p>\n",
    "<p style=\"font-size:15px; font-weight:bold;\"> - Her bir kriterin önemini ve yönünü dikkate almak istiyorsanız.</p>\n",
    "<p style=\"font-size:15px; font-weight:bold;\"> - Basit ve anlaşılır bir yöntem kullanmak istiyorsanız.</p>"
   ]
  },
  {
   "cell_type": "markdown",
   "id": "f3fbe680",
   "metadata": {},
   "source": [
    "<h3 style=\"color:green;\">MOORA Yönteminin Avantajları:</h3>\n",
    "<p style=\"font-size:15px; font-weight:bold;\"> - Basit ve anlaşılır bir yöntemdir.\n",
    "</p>\n",
    "<p style=\"font-size:15px; font-weight:bold;\"> - Farklı birimlere sahip kriterleri karşılaştırılabilir hale getirmek için normalizasyon kullanır.\n",
    "\n",
    "</p>\n",
    "<p style=\"font-size:15px; font-weight:bold;\"> - Her bir kriterin önemini ve yönünü dikkate alan bir oranlama sistemi kullanır.\n",
    "</p>\n",
    "<p style=\"font-size:15px; font-weight:bold;\"> - Hesaplamaları kolaydır ve manuel olarak veya yazılım kullanılarak yapılabilir</p>\n"
   ]
  },
  {
   "cell_type": "markdown",
   "id": "950a3f3f",
   "metadata": {},
   "source": [
    "<h3 style=\"color:green;\">MOORA Yönteminin Dezavantajları:</h3>\n",
    "<h5 style=\"color:green;\">Kriterler Arasındaki Etkileşimleri Dikkate Almaz:</h5>\n",
    "\n",
    "<p style=\"font-size:15px; font-weight:bold;\"> - MOORA yöntemi, kriterler arasındaki etkileşimleri veya sinerjileri dikkate almaz. Bu, bazı durumlarda sonuçların gerçek durumu tam olarak yansıtmamasına neden olabilir. Örneğin, bir eğitim kurumunda hem giriş sınav puanı hem de mülakat puanı önemli kriterler olabilir.\n",
    "</p>\n",
    "<p style=\"font-size:15px; font-weight:bold;\"> - MOORA yöntemi her iki kritere de eşit ağırlık verirken, mülakat puanı yüksek olan bir adayın düşük giriş sınav puanına sahip olmasına rağmen daha yüksek bir puan almasına neden olabilir. Bu durumda, mülakat puanı ve giriş sınav puanı arasındaki etkileşim göz ardı edilmiş olur.\n",
    "</p>\n",
    "\n",
    "<h5 style=\"color:green;\">Kriterlerin Ağırlıklarını Önceden Belirlemek Gerekir:</h5>\n",
    "\n",
    "<p style=\"font-size:15px; font-weight:bold;\"> - MOORA yönteminde her kriter için bir ağırlık değeri belirlemek gerekir. Bu ağırlıklar, kriterlerin önemini ve karar vermedeki rolünü temsil eder.\n",
    "</p>\n",
    "<p style=\"font-size:15px; font-weight:bold;\"> - Ağırlıkların belirlenmesi öznel bir işlemdir ve farklı kişiler farklı ağırlıklar belirleyebilir. Bu durum, farklı kişilerin MOORA yöntemini uyguladıklarında farklı sonuçlar almasına neden olabilir.\n",
    "</p>"
   ]
  },
  {
   "cell_type": "markdown",
   "id": "98d81646",
   "metadata": {},
   "source": [
    "<h1 style=\"color:green;\">MOORA ADIMLARI</h1>\n"
   ]
  },
  {
   "cell_type": "markdown",
   "id": "eda662c2",
   "metadata": {},
   "source": [
    "<h4 style=\"color:purple;\">1) Kriterlerin Belirlenmesi:</h4>\n",
    "<p style=\"font-size:15px; font-weight:bold;\"> Karar verme probleminizdeki tüm kriterleri belirleyin. Her bir kriter için faydaya mı (maksimize) yoksa maliyete mi (minimize) odaklandığınızı tanımlayın. Örneğin, bir araba seçerken yakıt verimliliği maksimize edilirken, fiyat minimize edilir.\n",
    "</p>\n"
   ]
  },
  {
   "cell_type": "markdown",
   "id": "aec1efcd",
   "metadata": {},
   "source": [
    "<h4 style=\"color:purple;\">2) Normalizasyon </h4>\n",
    "<p style=\"font-size:15px; font-weight:bold;\">Farklı birimlere sahip kriterleri 0 ile 1 arasında bir aralığa dönüştürün. Bu, kriterlerin birbirleriyle karşılaştırılabilir hale gelmesini sağlar.\n",
    "</p>\n"
   ]
  },
  {
   "cell_type": "markdown",
   "id": "48bf6ca7",
   "metadata": {},
   "source": [
    "<h5 style=\"color:purple;\">a) Fayda Kriterleri:</h5>\n",
    "\n",
    "$$\n",
    "x_{ij} = \\frac{v_{ij} - \\min_{k} v_{kj}}{\\max_{k} v_{kj} - \\min_{k} v_{kj}}\n",
    "$$\n",
    "<h5 style=\"color:purple;\"> b) Maliyet Kriterleri:</h5>\n",
    "\n",
    "$$\n",
    "x_{ij} = \\frac{\\max_{k} v_{kj} - v_{ij}}{\\max_{k} v_{kj} - \\min_{k} v_{kj}}\n",
    "$$\n",
    "\n",
    "$ x_{ij}$: $i$. alternatifteki $j$. kriterin normalize edilmiş değeri.\\\n",
    "\n",
    "$v_{ij}$: $i$. alternatifteki $j$. kriter değeri.\\\n",
    "\n",
    "$v_{kj}$: $k$. kriterin tüm alternatiflerdeki değerleri.\\\n",
    "\n",
    "$\\min_{k} v_{kj}$: $k$. kriterin minimum değeri.\\\n",
    "\n",
    "$\\max_{k} v_{kj}$: $k$. kriterin maksimum değeri."
   ]
  },
  {
   "cell_type": "markdown",
   "id": "74066544",
   "metadata": {},
   "source": [
    "<h5 style=\"color:purple;\">Örnek:</h5>\n",
    "\n",
    "Diyelim ki bir probleminizde 3 alternatif (A, B, C) ve 2 kriter (K1, K2) var. A alternatifinin K1 kriterindeki değeri 0.5 ve K2 kriterindeki değeri 0.8 olsun. Ayrıca, K1 kriterinin minimum değeri 0.2 ve maksimum değeri 0.9, K2 kriterinin minimum değeri 0.6 ve maksimum değeri 1.0 olsun. Bu durumda, A alternatifinin K1 ve K2 kriterleri için normalize edilmiş değerleri şu şekilde hesaplanır:\n",
    "\n",
    "<h5 style=\"color:purple;\">K1:</h5>\n",
    "\n",
    "$$\n",
    "x_{A1} = \\frac{0.9-0.2}{0.5-0.2} = 0.4286\n",
    "$$\n",
    "\n",
    "<h5 style=\"color:purple;\">K2:</h5>\n",
    "\n",
    "$$\n",
    "x_{A2} = \\frac{1.0-0.6}{1.0-0.8} = 0.2\n",
    "$$\n",
    "\n",
    "\n",
    "\n",
    "<h5 style=\"color:purple;\">Örnek 2 :</h5>\n",
    "Diyelim ki yukarıdaki örnekten A alternatifinin normalize edilmiş değerleri K1 için 0.4286 ve K2 için 0.2 olsun. Ayrıca, K1 kriterinin minimum normalize edilmiş değeri 0.2 ve K2 kriterinin minimum normalize edilmiş değeri 0.1 olsun. Bu durumda, A alternatifinin K1 ve K2 kriterleri için oran değerleri şu şekilde hesaplanır:\n",
    "\n",
    "K1:\n",
    "$$\n",
    "r_{A1} = \\frac{0.2}{0.4286} = 2.143\n",
    "$$\n",
    "\n",
    "K2:\n",
    "$$\n",
    "r_{A2} = \\frac{0.1}{0.2} = 2.0\n",
    "$$\n",
    "\n"
   ]
  },
  {
   "cell_type": "markdown",
   "id": "c53dd48e",
   "metadata": {},
   "source": [
    "<h4 style=\"color:purple;\">3) Performans Tablosu Oluşturma: </h4>\n",
    "<p style=\"font-size:15px; font-weight:bold;\"> Her bir alternatif için her bir kriterdeki performans değerlerini bir tabloda gösterin. Bu tablo, karar verme probleminizdeki tüm alternatifleri ve kriterleri kapsamalıdır.\n",
    "</p>\n"
   ]
  },
  {
   "cell_type": "markdown",
   "id": "db7a8f5a",
   "metadata": {},
   "source": [
    "<h4 style=\"color:purple;\">4 ) Oranlama Sistemleri:</h4>\n",
    "\n",
    "<h5 style=\"color:purple;\">4.1)Oran Oranlama Sistemi:</h5>\n",
    "<p style=\"font-size:15px; font-weight:bold;\"> Bu sistemde, her bir alternatif için kriter değeri, en kötü alternatifteki kriter değerine oranlanır. En düşük kriter değerine sahip alternatif için oran değeri 1 olurken, diğer alternatifler için oran değeri 1'den büyük olur.\n",
    "</p>\n",
    "\n",
    "$$\n",
    "r_{ij} = \\frac{x_{ij}}{\\min_{k} x_{kj}}\n",
    "$$\n",
    "\n",
    "$r_{ij}$: $i$. alternatifteki $j$. kriterin oran değeri.\\\n",
    "\n",
    "$m$: alternatif sayısı.\n",
    "\n",
    "\n",
    "<h5 style=\"color:purple;\">4.2)Referans Noktasına Dayalı Oranlama Sistemi:</h5>\n",
    "<p style=\"font-size:15px; font-weight:bold;\"> Bu sistemde, her bir alternatif için kriter değeri, tüm alternatiflerin kriter değerlerinin ortalamasına (referans noktası) oranlanır. Ortalama kriter değerine sahip alternatif için oran değeri 1 olurken, diğer alternatifler için oran değeri 1'den büyük veya küçük olabilir.\n",
    "</p>\n",
    "\n",
    "$$\n",
    "r_{ij} = \\frac{x_{ij}}{\\frac{1}{m} \\sum_{k=1}^{m} x_{kj}}\n",
    "$$\n",
    "\n",
    "$r_{ij}$: $i$. alternatifteki $j$. kriterin oran değeri.\\\n",
    "\n",
    "$m$: alternatif sayısı.\n",
    "\n",
    "\n",
    "<h5 style=\"color:purple;\">Seçim:</h5>\n",
    "<p style=\"font-size:15px; font-weight:bold;\"> Hangi oranlama sisteminin kullanılacağı, kriterlerin türüne ve karar verme probleminin özelliklerine bağlıdır. Genel olarak, Oran Oranlama Sistemi, kriterlerin birbirleriyle benzer olduğu durumlarda daha uygun olabilirken, Referans Noktasına Dayalı Oranlama Sistemi, kriterlerin farklı birimlere sahip olduğu veya farklı ölçeklerde ölçüldüğü durumlarda daha uygun olabilir.\n",
    "</p>\n",
    "\n"
   ]
  },
  {
   "cell_type": "markdown",
   "id": "2d384729",
   "metadata": {},
   "source": [
    "<h5 style=\"color:purple;\">5)Puanlama Tablosu:</h5>\n",
    "<p style=\"font-size:15px; font-weight:bold;\"> Oranlama sisteminden elde edilen oran değerleri, her bir alternatif için puanlama tablosu oluşturmak için kullanılır. Puanlama tablosu, her bir alternatif için her bir kriterdeki puanı gösterir. Puanlar genellikle 0 ile 1 arasında bir aralıkta olur.\n",
    "</p>\n",
    "\n",
    "$$\n",
    "S_i = \\sum_{j=1}^{n} w_j r_{ij}\n",
    "$$\n",
    "\n",
    "$S_i$: $i$. alternatifin toplam puanı.\n",
    "\n",
    "$w_j$: $j$. kriterin ağırlığı (opsiyonel).\n",
    "\n",
    "$r_{ij}$: $i$. alternatifteki $j$. kriterin oran değeri.\n",
    "\n",
    "\n",
    "<h4 style=\"color:purple;\">6)Sıralama:</h4>\n",
    "<p style=\"font-size:15px; font-weight:bold;\">Puanlama tablosundaki toplam puanlara göre alternatifler sıralanır. En yüksek toplam puana sahip alternatif, en uygun alternatif olarak kabul edilir.\n",
    "</p>"
   ]
  },
  {
   "cell_type": "code",
   "execution_count": 1,
   "id": "38d5a5ec",
   "metadata": {},
   "outputs": [
    {
     "name": "stdout",
     "output_type": "stream",
     "text": [
      "Alternatif Performansları:\n",
      "[[0.6852755  0.73791055]\n",
      " [0.76415002 0.30326523]\n",
      " [0.98646639 0.32335538]]\n",
      "\n",
      "Kriter Performansları:\n",
      "[[0.96059922 0.72135521 0.87759426]\n",
      " [0.98919699 0.39721145 0.59796235]]\n"
     ]
    }
   ],
   "source": [
    "import numpy as np\n",
    "\n",
    "alternatif_sayisi = 3\n",
    "kriter_sayisi = 2\n",
    "\n",
    "alternatif_performanslari = np.random.rand(alternatif_sayisi, kriter_sayisi)\n",
    "\n",
    "kriter_performanslari = np.random.rand(kriter_sayisi, alternatif_sayisi)\n",
    "\n",
    "print(\"Alternatif Performansları:\")\n",
    "print(alternatif_performanslari)\n",
    "print(\"\\nKriter Performansları:\")\n",
    "print(kriter_performanslari)"
   ]
  },
  {
   "cell_type": "code",
   "execution_count": 2,
   "id": "ee45ba5a",
   "metadata": {},
   "outputs": [
    {
     "name": "stdout",
     "output_type": "stream",
     "text": [
      "K1 için normalize edilmiş değer (A): 0.4999999999999999\n",
      "K2 için normalize edilmiş değer (A): 0.5000000000000001\n"
     ]
    }
   ],
   "source": [
    "def normalize_fayda_kriterleri(v_ij, v_kj):\n",
    "    return (v_ij - min(v_kj)) / (max(v_kj) - min(v_kj))\n",
    "\n",
    "def normalize_maliyet_kriterleri(v_ij, v_kj):\n",
    "    return (max(v_kj) - v_ij) / (max(v_kj) - min(v_kj))\n",
    "\n",
    "# Örnek veriler\n",
    "v_ij = [0.5, 0.8]\n",
    "v_kj = [[0.2, 0.5, 0.8], [0.6, 0.8, 1.0]]\n",
    "m = alternatif_sayisi  # alternatif sayısı\n",
    "w_j = [0.3, 0.7]  # kriter ağırlıkları\n",
    "# Normalizasyon\n",
    "x_A1 = normalize_fayda_kriterleri(v_ij[0], v_kj[0])\n",
    "x_A2 = normalize_fayda_kriterleri(v_ij[1], v_kj[1])\n",
    "\n",
    "print(\"K1 için normalize edilmiş değer (A):\", x_A1)\n",
    "print(\"K2 için normalize edilmiş değer (A):\", x_A2)\n"
   ]
  },
  {
   "cell_type": "code",
   "execution_count": 3,
   "id": "c68aaa1d",
   "metadata": {},
   "outputs": [
    {
     "name": "stdout",
     "output_type": "stream",
     "text": [
      "K1 için oran değeri (A): 2.499999999999999\n",
      "K2 için oran değeri (A): 0.8333333333333336\n",
      "\n",
      "K1 için referans noktasına dayalı oran değeri (A): 0.9999999999999998\n",
      "K2 için referans noktasına dayalı oran değeri (A): 0.6250000000000002\n"
     ]
    }
   ],
   "source": [
    "def oran_oranlama_sistemi(x_ij, x_kj):\n",
    "    return x_ij / min(x_kj)\n",
    "\n",
    "def referans_noktasına_dayalı_oranlama_sistemi(x_ij, x_kj, m):\n",
    "    return x_ij / (sum(x_kj) / m)\n",
    "\n",
    "# Oranlama Sistemleri\n",
    "r_A1 = oran_oranlama_sistemi(x_A1, v_kj[0])\n",
    "r_A2 = oran_oranlama_sistemi(x_A2, v_kj[1])\n",
    "\n",
    "print(\"K1 için oran değeri (A):\", r_A1)\n",
    "print(\"K2 için oran değeri (A):\", r_A2)\n",
    "\n",
    "# Referans Noktasına Dayalı Oranlama Sistemi\n",
    "r_A1_ref = referans_noktasına_dayalı_oranlama_sistemi(x_A1, v_kj[0], m)\n",
    "r_A2_ref = referans_noktasına_dayalı_oranlama_sistemi(x_A2, v_kj[1], m)\n",
    "\n",
    "print(\"\\nK1 için referans noktasına dayalı oran değeri (A):\", r_A1_ref)\n",
    "print(\"K2 için referans noktasına dayalı oran değeri (A):\", r_A2_ref)\n"
   ]
  },
  {
   "cell_type": "code",
   "execution_count": 4,
   "id": "29b26c65",
   "metadata": {
    "scrolled": true
   },
   "outputs": [
    {
     "name": "stdout",
     "output_type": "stream",
     "text": [
      "K1 için oran değeri (A): 2.499999999999999\n",
      "K2 için oran değeri (A): 0.8333333333333336\n",
      "K1 için referans noktasına dayalı oran değeri (A): 0.9999999999999998\n",
      "K2 için referans noktasına dayalı oran değeri (A): 0.6250000000000002\n"
     ]
    }
   ],
   "source": [
    "def oran_oranlama_sistemi(x_ij, x_kj):\n",
    "    return x_ij / min(x_kj)\n",
    "\n",
    "def referans_noktasına_dayalı_oranlama_sistemi(x_ij, x_kj, m):\n",
    "    return x_ij / (sum(x_kj) / m)\n",
    "\n",
    "# Oranlama Sistemleri\n",
    "r_A1 = oran_oranlama_sistemi(x_A1, v_kj[0])\n",
    "r_A2 = oran_oranlama_sistemi(x_A2, v_kj[1])\n",
    "\n",
    "print(\"K1 için oran değeri (A):\", r_A1)\n",
    "print(\"K2 için oran değeri (A):\", r_A2)\n",
    "\n",
    "# Referans Noktasına Dayalı Oranlama Sistemi\n",
    "r_A1_ref = referans_noktasına_dayalı_oranlama_sistemi(x_A1, v_kj[0], m)\n",
    "r_A2_ref = referans_noktasına_dayalı_oranlama_sistemi(x_A2, v_kj[1], m)\n",
    "\n",
    "print(\"K1 için referans noktasına dayalı oran değeri (A):\", r_A1_ref)\n",
    "print(\"K2 için referans noktasına dayalı oran değeri (A):\", r_A2_ref)\n",
    "\n"
   ]
  },
  {
   "cell_type": "code",
   "execution_count": 5,
   "id": "4443cb30",
   "metadata": {},
   "outputs": [
    {
     "name": "stdout",
     "output_type": "stream",
     "text": [
      "Alternatif A'nın toplam puanı: 1.333333333333333\n"
     ]
    }
   ],
   "source": [
    "def puanlama(w_j, r_ij):\n",
    "    return sum(w * r for w, r in zip(w_j, r_ij))\n",
    "\n",
    "# Puanlama\n",
    "S_A = puanlama(w_j, [r_A1, r_A2])\n",
    "\n",
    "print(\"Alternatif A'nın toplam puanı:\", S_A)\n",
    "\n"
   ]
  },
  {
   "cell_type": "markdown",
   "id": "344be62d",
   "metadata": {},
   "source": [
    "<h4 style=\"color:purple;\">YORUM </h4>\n",
    "<p style=\"font-size:15px; font-weight:bold;\">Bu verilerle MOORA yöntemini uyguladığımızda, alternatif A'nın toplam puanı 1.3333 olarak hesaplanmıştır. Bu puan, alternatifin kriterlerin ağırlıklarına göre değerlendirildiğinde ne kadar iyi performans gösterdiğini gösterir.</p>\n",
    "\n",
    "<p style=\"font-size:15px; font-weight:bold;\">K1 kriteri için normalize edilmiş değer 0.5 ve K2 kriteri için normalize edilmiş değer 0.5 olarak bulunmuştur. Bu, alternatifin her iki kriterde de orta seviyede performans gösterdiğini gösterir.</p>\n",
    "\n",
    "<p style=\"font-size:15px; font-weight:bold;\">K1 kriteri için oran değeri 2.5 ve K2 kriteri için oran değeri 0.8333 olarak hesaplanmıştır. Bu, alternatifin K1 kriterinde diğer alternatiflere kıyasla çok daha iyi performans gösterdiğini ancak K2 kriterinde daha düşük performans gösterdiğini gösterir.</p>\n",
    "\n",
    "<p style=\"font-size:15px; font-weight:bold;\">Referans noktasına dayalı oranlama sistemi sonuçlarına göre, alternatifin K1 kriterinde ortalamanın üzerinde, ancak K2 kriterinde ortalamanın altında performans gösterdiği görülmektedir. Bu da alternatifin genel olarak orta seviyede bir performans sergilediğini işaret etmektedir.</p>\n",
    "\n",
    "<p style=\"font-size:15px; font-weight:bold;\">Sonuç olarak, alternatif A'nın toplam puanı 1.3333'tür ve bu da alternatifin ortalama bir performans sergilediğini gösterir. K1 kriterinin ağırlığı daha yüksek olduğu için, alternatifin performansı özellikle K1 kriterine bağlıdır. Ancak, K2 kriterinde de düşük bir performans göstermektedir. Bu bilgi, alternatif A'nın güçlü ve zayıf yönlerini belirlemek için değerli bir rehber sağlar.</p>\n"
   ]
  }
 ],
 "metadata": {
  "kernelspec": {
   "display_name": "Python 3 (ipykernel)",
   "language": "python",
   "name": "python3"
  },
  "language_info": {
   "codemirror_mode": {
    "name": "ipython",
    "version": 3
   },
   "file_extension": ".py",
   "mimetype": "text/x-python",
   "name": "python",
   "nbconvert_exporter": "python",
   "pygments_lexer": "ipython3",
   "version": "3.11.5"
  }
 },
 "nbformat": 4,
 "nbformat_minor": 5
}
