{
 "cells": [
  {
   "cell_type": "markdown",
   "id": "4969e19e",
   "metadata": {},
   "source": [
    "<h1 style=\"color:orange;\">Analitik Hiyerarşi Süreci (AHP)</h1>\n"
   ]
  },
  {
   "cell_type": "markdown",
   "id": "6191fef1",
   "metadata": {},
   "source": [
    "<p style=\"color:black; font-size: 15px; font-weight: bold;\">Analitik Hiyerarşi Süreci (AHP), karmaşık karar verme süreçlerinde kullanılan bir çok kriterli karar verme yöntemidir. 1970'lerin sonlarında Dr. Thomas L. Saaty tarafından geliştirilen AHP, bir problemi daha küçük ve daha yönetilebilir parçalara böler ve karar verme sürecini sistematik bir şekilde yapılandırır.</p>\n"
   ]
  },
  {
   "cell_type": "markdown",
   "id": "3b50fe18",
   "metadata": {},
   "source": [
    "<h2 style=\"color:blue;\">Adımlar</h2>\n"
   ]
  },
  {
   "cell_type": "markdown",
   "id": "17903dd4",
   "metadata": {},
   "source": [
    "<h3 style=\"color:blue;\"> Kriterlerin Tanımlanması</h3>\n"
   ]
  },
  {
   "cell_type": "markdown",
   "id": "3fce000c",
   "metadata": {},
   "source": [
    "<p style=\"color:black; font-size: 15px; font-weight: bold;\">İlk adım, karar verme sürecinde önemli olan tüm kriterlerin belirlenmesidir. Bu kriterler, kararın niteliğine ve alınacak kararın kapsamına bağlı olarak değişebilir. Örneğin, bir yatırım kararı için kriterler maliyet, risk, getiri gibi olabilir.</p>\n"
   ]
  },
  {
   "cell_type": "markdown",
   "id": "78443777",
   "metadata": {},
   "source": [
    "<h3 style=\"color:blue;\"> Karşılaştırma Matrisinin Oluşturulması </h3>\n"
   ]
  },
  {
   "cell_type": "markdown",
   "id": "e7fc87eb",
   "metadata": {},
   "source": [
    "<p style=\"color:black; font-size: 15px; font-weight: bold;\">Her bir kriterin diğer kriterlerle karşılaştırılarak önem derecelerinin belirlendiği bir karşılaştırma matrisi oluşturulur. Karar verici, her iki kriter arasındaki önemi bir ölçekte belirler. Bu ölçek genellikle 1 ile 9 arasındadır, 1 eşit öneme sahip iken 9 en önemliyi ifade eder.</p>\n"
   ]
  },
  {
   "cell_type": "markdown",
   "id": "8c4f56bd",
   "metadata": {},
   "source": [
    "<h3 style=\"color:blue;\">Ağırlıklandırma </h3>\n"
   ]
  },
  {
   "cell_type": "markdown",
   "id": "d1c7b7a2",
   "metadata": {},
   "source": [
    "<p style=\"color:black; font-size: 15px; font-weight: bold;\"> Karşılaştırma matrisi kullanılarak her kriterin diğer kriterlere göre olan önemi ağırlıklandırılır. Bu, kriterlerin öncelik sırasını belirleyen bir ağırlık vektörü oluşturulması anlamına gelir. Ağırlıklar, karar verici tarafından belirlenen tercihler ve kriterlerin önem derecelerine göre belirlenir.</p>\n"
   ]
  },
  {
   "cell_type": "markdown",
   "id": "a59469cc",
   "metadata": {},
   "source": [
    "<h3 style=\"color:blue;\">Alternatiflerin Değerlendirilmesi  </h3>\n"
   ]
  },
  {
   "cell_type": "markdown",
   "id": "a178ba5a",
   "metadata": {},
   "source": [
    "<p style=\"color:black; font-size: 15px; font-weight: bold;\"> Değerlendirme altındaki her bir alternatif, belirlenen kriterler altında puanlanır. Her bir kriter için alternatifin performansını gösteren sayısal değerler atanır.</p>\n"
   ]
  },
  {
   "cell_type": "markdown",
   "id": "c403f167",
   "metadata": {},
   "source": [
    "<h3 style=\"color:blue;\">Toplam Skorların Hesaplanması</h3>\n"
   ]
  },
  {
   "cell_type": "markdown",
   "id": "5bbc211a",
   "metadata": {},
   "source": [
    "<p style=\"color:black; font-size: 15px; font-weight: bold;\">Alternatiflerin her biri için, her kriterin ağırlığı ile puanları çarpılır ve toplanarak alternatifin toplam skoru elde edilir. Bu, her alternatifin her kriterin önemi göz önünde bulundurularak nasıl performans gösterdiğini gösteren bir ölçüdür.</p>\n"
   ]
  },
  {
   "cell_type": "markdown",
   "id": "9e2c74a6",
   "metadata": {},
   "source": [
    "<h3 style=\"color:blue;\">En İyi Seçimin Belirlenmesi </h3>\n"
   ]
  },
  {
   "cell_type": "markdown",
   "id": "5ea32241",
   "metadata": {},
   "source": [
    "<p style=\"color:black; font-size: 15px; font-weight: bold;\">Elde edilen toplam skorlar arasından en yüksek skora sahip olan alternatif, en uygun olanı olarak seçilir. Bu alternatif, karar vericinin belirlenen kriterlere en iyi şekilde uyduğunu gösterir.</p>\n"
   ]
  },
  {
   "cell_type": "markdown",
   "id": "03f77437",
   "metadata": {},
   "source": [
    "<h2 style=\"color:blue;\">Avantajlar</h2>\n"
   ]
  },
  {
   "cell_type": "markdown",
   "id": "b5e1be84",
   "metadata": {},
   "source": [
    "<h3 style=\"color:blue;\">Yapısal Bir Karar Süreci</h3>\n"
   ]
  },
  {
   "cell_type": "markdown",
   "id": "f98d521f",
   "metadata": {},
   "source": [
    "<p style=\"color:black; font-size: 15px; font-weight: bold;\">AHP, karar verme sürecini adım adım yapılandırır ve karmaşıklığı azaltır.</p>\n"
   ]
  },
  {
   "cell_type": "markdown",
   "id": "f41e5afb",
   "metadata": {},
   "source": [
    "<h3 style=\"color:blue;\"> Açık ve Sistematik Karşılaştırmalar</h3>\n"
   ]
  },
  {
   "cell_type": "markdown",
   "id": "f91007da",
   "metadata": {},
   "source": [
    "<p style=\"color:black; font-size: 15px; font-weight: bold;\">Kriterler ve alternatifler arasındaki karşılaştırmalar açıkça yapılır, bu da karar vericilere daha net bir anlayış sunar.</p>\n"
   ]
  },
  {
   "cell_type": "markdown",
   "id": "697b081d",
   "metadata": {},
   "source": [
    "<h3 style=\"color:blue;\">  Esneklik</h3>\n"
   ]
  },
  {
   "cell_type": "markdown",
   "id": "d3a2d3a7",
   "metadata": {},
   "source": [
    "<p style=\"color:black; font-size: 15px; font-weight: bold;\">AHP, çeşitli sektörlerde ve alanlarda kullanılabilir ve farklı karmaşıklık seviyelerine uyum sağlayabilir.</p>\n"
   ]
  },
  {
   "cell_type": "markdown",
   "id": "2467e97b",
   "metadata": {},
   "source": [
    "<p style=\"color:black; font-size: 30px; font-weight: bold;\"> ___________________________________________________________________________________________________________</p>\n"
   ]
  },
  {
   "cell_type": "markdown",
   "id": "648c5a08",
   "metadata": {},
   "source": [
    "<h1 style=\"color:orange;\">  Örnek</h1>\n"
   ]
  },
  {
   "cell_type": "markdown",
   "id": "1010ea51",
   "metadata": {},
   "source": [
    "<p style=\"color:red; font-size: 20px; font-weight: bold;\">Şirketiniz, ürünlerinizin üretiminde kullanılan hammadde ve malzemelerin tedarikinde en iyi tedarikçiyi seçmek istiyor. Ürün kalitesini artırmak, maliyetleri düşürmek ve teslim sürelerini optimize etmek için doğru tedarikçiyi seçmek kritik öneme sahip.</p>\n"
   ]
  },
  {
   "cell_type": "markdown",
   "id": "39c24c6d",
   "metadata": {},
   "source": [
    "<p style=\"color:red; font-size: 20px; font-weight: bold;\">Şirketinizin tedarikçi ağı oldukça geniş ve \"Tedarikçi A\" ile \"Tedarikçi T\" arasında 20 farklı seçenek bulunuyor. Üç ana kriter belirlendikten sonra (\"Kalite\", \"Fiyat\" ve \"Teslim Süresi\"), her bir tedarikçi için bu kriterlerin performansını gösteren bir karar matrisi oluşturuldu.</p>\n"
   ]
  },
  {
   "cell_type": "markdown",
   "id": "f04f20e8",
   "metadata": {},
   "source": [
    "<p style=\"color:red; font-size: 20px; font-weight: bold;\"> Örneğin, \"Tedarikçi A\" belirli bir malzeme için 1-10 arasında bir puan aldı: Kalite için 8, Fiyat için 5 ve Teslim Süresi için 7 gibi.</p>\n"
   ]
  },
  {
   "cell_type": "markdown",
   "id": "deba503f",
   "metadata": {},
   "source": [
    "<p style=\"color:red; font-size: 20px; font-weight: bold;\"> Bu veriler kullanılarak Analitik Hiyerarşi Süreci (AHP) yöntemi uygulanacak. AHP, her bir tedarikçinin belirlenen kriterlere göre performansını değerlendirerek, hangi tedarikçinin en uygun seçenek olduğunu belirleyecek.</p>\n"
   ]
  },
  {
   "cell_type": "markdown",
   "id": "dbf86b18",
   "metadata": {},
   "source": [
    "<p style=\"color:red; font-size: 20px; font-weight: bold;\">  Şirketiniz, AHP yöntemi kullanarak en uygun tedarikçiyi belirleyecek ve böylece üretim süreçlerini optimize edecek, maliyetleri düşürecek ve müşteri memnuniyetini artıracak.</p>\n"
   ]
  },
  {
   "cell_type": "code",
   "execution_count": 7,
   "id": "b37c7b62",
   "metadata": {},
   "outputs": [],
   "source": [
    "import numpy as np\n",
    "import pandas as pd\n"
   ]
  },
  {
   "cell_type": "code",
   "execution_count": 8,
   "id": "32d4ef8d",
   "metadata": {},
   "outputs": [
    {
     "data": {
      "text/html": [
       "<div>\n",
       "<style scoped>\n",
       "    .dataframe tbody tr th:only-of-type {\n",
       "        vertical-align: middle;\n",
       "    }\n",
       "\n",
       "    .dataframe tbody tr th {\n",
       "        vertical-align: top;\n",
       "    }\n",
       "\n",
       "    .dataframe thead th {\n",
       "        text-align: right;\n",
       "    }\n",
       "</style>\n",
       "<table border=\"1\" class=\"dataframe\">\n",
       "  <thead>\n",
       "    <tr style=\"text-align: right;\">\n",
       "      <th></th>\n",
       "      <th>Kalite</th>\n",
       "      <th>Fiyat</th>\n",
       "      <th>Teslim Süresi</th>\n",
       "    </tr>\n",
       "  </thead>\n",
       "  <tbody>\n",
       "    <tr>\n",
       "      <th>Tedarikçi A</th>\n",
       "      <td>9</td>\n",
       "      <td>4</td>\n",
       "      <td>7</td>\n",
       "    </tr>\n",
       "    <tr>\n",
       "      <th>Tedarikçi B</th>\n",
       "      <td>7</td>\n",
       "      <td>7</td>\n",
       "      <td>3</td>\n",
       "    </tr>\n",
       "    <tr>\n",
       "      <th>Tedarikçi C</th>\n",
       "      <td>7</td>\n",
       "      <td>5</td>\n",
       "      <td>8</td>\n",
       "    </tr>\n",
       "    <tr>\n",
       "      <th>Tedarikçi D</th>\n",
       "      <td>1</td>\n",
       "      <td>9</td>\n",
       "      <td>1</td>\n",
       "    </tr>\n",
       "    <tr>\n",
       "      <th>Tedarikçi E</th>\n",
       "      <td>5</td>\n",
       "      <td>8</td>\n",
       "      <td>9</td>\n",
       "    </tr>\n",
       "    <tr>\n",
       "      <th>Tedarikçi F</th>\n",
       "      <td>5</td>\n",
       "      <td>9</td>\n",
       "      <td>2</td>\n",
       "    </tr>\n",
       "    <tr>\n",
       "      <th>Tedarikçi G</th>\n",
       "      <td>7</td>\n",
       "      <td>6</td>\n",
       "      <td>8</td>\n",
       "    </tr>\n",
       "    <tr>\n",
       "      <th>Tedarikçi H</th>\n",
       "      <td>6</td>\n",
       "      <td>8</td>\n",
       "      <td>9</td>\n",
       "    </tr>\n",
       "    <tr>\n",
       "      <th>Tedarikçi I</th>\n",
       "      <td>9</td>\n",
       "      <td>1</td>\n",
       "      <td>3</td>\n",
       "    </tr>\n",
       "    <tr>\n",
       "      <th>Tedarikçi J</th>\n",
       "      <td>4</td>\n",
       "      <td>2</td>\n",
       "      <td>2</td>\n",
       "    </tr>\n",
       "    <tr>\n",
       "      <th>Tedarikçi K</th>\n",
       "      <td>8</td>\n",
       "      <td>6</td>\n",
       "      <td>5</td>\n",
       "    </tr>\n",
       "    <tr>\n",
       "      <th>Tedarikçi L</th>\n",
       "      <td>3</td>\n",
       "      <td>7</td>\n",
       "      <td>2</td>\n",
       "    </tr>\n",
       "    <tr>\n",
       "      <th>Tedarikçi M</th>\n",
       "      <td>3</td>\n",
       "      <td>4</td>\n",
       "      <td>3</td>\n",
       "    </tr>\n",
       "    <tr>\n",
       "      <th>Tedarikçi N</th>\n",
       "      <td>1</td>\n",
       "      <td>7</td>\n",
       "      <td>7</td>\n",
       "    </tr>\n",
       "    <tr>\n",
       "      <th>Tedarikçi O</th>\n",
       "      <td>7</td>\n",
       "      <td>2</td>\n",
       "      <td>4</td>\n",
       "    </tr>\n",
       "    <tr>\n",
       "      <th>Tedarikçi P</th>\n",
       "      <td>8</td>\n",
       "      <td>5</td>\n",
       "      <td>5</td>\n",
       "    </tr>\n",
       "    <tr>\n",
       "      <th>Tedarikçi Q</th>\n",
       "      <td>8</td>\n",
       "      <td>8</td>\n",
       "      <td>5</td>\n",
       "    </tr>\n",
       "    <tr>\n",
       "      <th>Tedarikçi R</th>\n",
       "      <td>6</td>\n",
       "      <td>2</td>\n",
       "      <td>3</td>\n",
       "    </tr>\n",
       "    <tr>\n",
       "      <th>Tedarikçi S</th>\n",
       "      <td>4</td>\n",
       "      <td>9</td>\n",
       "      <td>6</td>\n",
       "    </tr>\n",
       "    <tr>\n",
       "      <th>Tedarikçi T</th>\n",
       "      <td>1</td>\n",
       "      <td>8</td>\n",
       "      <td>3</td>\n",
       "    </tr>\n",
       "  </tbody>\n",
       "</table>\n",
       "</div>"
      ],
      "text/plain": [
       "             Kalite  Fiyat  Teslim Süresi\n",
       "Tedarikçi A       9      4              7\n",
       "Tedarikçi B       7      7              3\n",
       "Tedarikçi C       7      5              8\n",
       "Tedarikçi D       1      9              1\n",
       "Tedarikçi E       5      8              9\n",
       "Tedarikçi F       5      9              2\n",
       "Tedarikçi G       7      6              8\n",
       "Tedarikçi H       6      8              9\n",
       "Tedarikçi I       9      1              3\n",
       "Tedarikçi J       4      2              2\n",
       "Tedarikçi K       8      6              5\n",
       "Tedarikçi L       3      7              2\n",
       "Tedarikçi M       3      4              3\n",
       "Tedarikçi N       1      7              7\n",
       "Tedarikçi O       7      2              4\n",
       "Tedarikçi P       8      5              5\n",
       "Tedarikçi Q       8      8              5\n",
       "Tedarikçi R       6      2              3\n",
       "Tedarikçi S       4      9              6\n",
       "Tedarikçi T       1      8              3"
      ]
     },
     "execution_count": 8,
     "metadata": {},
     "output_type": "execute_result"
    }
   ],
   "source": [
    "tedarikciler = [\"Tedarikçi A\", \"Tedarikçi B\", \"Tedarikçi C\", \"Tedarikçi D\", \"Tedarikçi E\",\n",
    "           \"Tedarikçi F\", \"Tedarikçi G\", \"Tedarikçi H\", \"Tedarikçi I\", \"Tedarikçi J\",\n",
    "           \"Tedarikçi K\", \"Tedarikçi L\", \"Tedarikçi M\", \"Tedarikçi N\", \"Tedarikçi O\",\n",
    "           \"Tedarikçi P\", \"Tedarikçi Q\", \"Tedarikçi R\", \"Tedarikçi S\", \"Tedarikçi T\"]\n",
    "kriterler = [\"Kalite\", \"Fiyat\", \"Teslim Süresi\"]\n",
    "\n",
    "karar_matrisi = np.random.randint(1, 10, size=(20, 3))\n",
    "df = pd.DataFrame(data=karar_matrisi, columns=kriterler, index=tedarikciler)\n",
    "df"
   ]
  },
  {
   "cell_type": "code",
   "execution_count": 9,
   "id": "6683ac27",
   "metadata": {},
   "outputs": [],
   "source": [
    "agirliklar = np.mean(karar_matrisi, axis=1)\n",
    "normalize_matris = karar_matrisi / agirliklar[:, None]\n",
    "kriter_agirliklari = np.mean(normalize_matris, axis=0)\n",
    "toplam_agirliklar = np.sum(normalize_matris * kriter_agirliklari, axis=1)\n",
    "en_iyi_index = np.argmax(toplam_agirliklar)\n",
    "en_iyi_tedarikci = tedarikciler[en_iyi_index]"
   ]
  },
  {
   "cell_type": "markdown",
   "id": "e009c6b5",
   "metadata": {},
   "source": [
    "### \n",
    "#### \n",
    "\n",
    "\n",
    "#### \n",
    "\n",
    "#### \n",
    "\n",
    "#### \n",
    "\n",
    "####"
   ]
  },
  {
   "cell_type": "code",
   "execution_count": 10,
   "id": "8c132fe2",
   "metadata": {},
   "outputs": [
    {
     "name": "stdout",
     "output_type": "stream",
     "text": [
      "\n",
      "Kriterlerin Ağırlık Vektörleri:\n",
      "Kalite: 1.0304773457405878\n",
      "Fiyat: 1.120062177384916\n",
      "Teslim Süresi: 0.8494604768744962\n"
     ]
    }
   ],
   "source": [
    "print(\"\\nKriterlerin Ağırlık Vektörleri:\")\n",
    "for i, kriter in enumerate(kriterler):\n",
    "    print(f\"{kriter}: {kriter_agirliklari[i]}\")\n"
   ]
  },
  {
   "cell_type": "code",
   "execution_count": 11,
   "id": "757c6fa3",
   "metadata": {},
   "outputs": [
    {
     "name": "stdout",
     "output_type": "stream",
     "text": [
      "\n",
      "Tedarikçi Seçeneklerinin Toplam Ağırlıklı Puanları:\n",
      "Tedarikçi A: 2.955115223898964\n",
      "Tedarikçi B: 3.106263192794473\n",
      "Tedarikçi C: 2.9414004183156996\n",
      "Tedarikçi D: 3.2619538415670895\n",
      "Tedarikçi E: 2.967003878134464\n",
      "Tedarikçi F: 3.174725114796783\n",
      "Tedarikçi G: 2.961342614212797\n",
      "Tedarikçi H: 2.972413798094781\n",
      "Tedarikçi I: 2.9867860891554683\n",
      "Tedarikçi J: 3.022858009305441\n",
      "Tedarikçi K: 3.0333938233589492\n",
      "Tedarikçi L: 3.157697058166292\n",
      "Tedarikçi M: 3.0360186532154745\n",
      "Tedarikçi N: 2.9634271851112945\n",
      "Tedarikçi O: 2.9656863882581384\n",
      "Tedarikçi P: 3.015238672870294\n",
      "Tedarikçi Q: 3.0645169384823583\n",
      "Tedarikçi R: 2.992191779955504\n",
      "Tedarikçi S: 3.0472471327379322\n",
      "Tedarikçi T: 3.134839048860851\n"
     ]
    }
   ],
   "source": [
    "print(\"\\nTedarikçi Seçeneklerinin Toplam Ağırlıklı Puanları:\")\n",
    "for i, tedarikci in enumerate(tedarikciler):\n",
    "    print(f\"{tedarikci}: {toplam_agirliklar[i]}\")\n"
   ]
  },
  {
   "cell_type": "code",
   "execution_count": 12,
   "id": "2ac2a764",
   "metadata": {},
   "outputs": [
    {
     "name": "stdout",
     "output_type": "stream",
     "text": [
      "\n",
      "En iyi tedarikçi: Tedarikçi D (Toplam Ağırlıklı Puan: 3.2619538415670895)\n"
     ]
    }
   ],
   "source": [
    "print(f\"\\nEn iyi tedarikçi: {en_iyi_tedarikci} (Toplam Ağırlıklı Puan: {toplam_agirliklar[en_iyi_index]})\")"
   ]
  },

 ],
 "metadata": {
  "kernelspec": {
   "display_name": "Python 3 (ipykernel)",
   "language": "python",
   "name": "python3"
  },
  "language_info": {
   "codemirror_mode": {
    "name": "ipython",
    "version": 3
   },
   "file_extension": ".py",
   "mimetype": "text/x-python",
   "name": "python",
   "nbconvert_exporter": "python",
   "pygments_lexer": "ipython3",
   "version": "3.11.5"
  }
 },
 "nbformat": 4,
 "nbformat_minor": 5
}
