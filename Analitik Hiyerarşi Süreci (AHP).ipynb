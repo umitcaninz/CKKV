{
 "cells": [
  {
   "cell_type": "markdown",
   "id": "af566451",
   "metadata": {},
   "source": [
    "<h1 style=\"color:orange;\">Analitik Hiyerarşi Süreci (AHP)</h1>\n"
   ]
  },
  {
   "cell_type": "markdown",
   "id": "48245397",
   "metadata": {},
   "source": [
    "<p style=\"color:black; font-size: 15px; font-weight: bold;\">Analitik Hiyerarşi Süreci (AHP), karmaşık karar verme süreçlerinde kullanılan bir çok kriterli karar verme yöntemidir. 1970'lerin sonlarında Dr. Thomas L. Saaty tarafından geliştirilen AHP, bir problemi daha küçük ve daha yönetilebilir parçalara böler ve karar verme sürecini sistematik bir şekilde yapılandırır.</p>\n"
   ]
  },
  {
   "cell_type": "markdown",
   "id": "5629d73a",
   "metadata": {},
   "source": [
    "<h2 style=\"color:blue;\">Adımlar</h2>\n"
   ]
  },
  {
   "cell_type": "markdown",
   "id": "60c31271",
   "metadata": {},
   "source": [
    "<h3 style=\"color:blue;\"> Kriterlerin Tanımlanması</h3>\n"
   ]
  },
  {
   "cell_type": "markdown",
   "id": "29fa0cbf",
   "metadata": {},
   "source": [
    "<p style=\"color:black; font-size: 15px; font-weight: bold;\">İlk adım, karar verme sürecinde önemli olan tüm kriterlerin belirlenmesidir. Bu kriterler, kararın niteliğine ve alınacak kararın kapsamına bağlı olarak değişebilir. Örneğin, bir yatırım kararı için kriterler maliyet, risk, getiri gibi olabilir.</p>\n"
   ]
  },
  {
   "cell_type": "markdown",
   "id": "bee77dca",
   "metadata": {},
   "source": [
    "<h3 style=\"color:blue;\"> Karşılaştırma Matrisinin Oluşturulması </h3>\n"
   ]
  },
  {
   "cell_type": "markdown",
   "id": "54bd266d",
   "metadata": {},
   "source": [
    "<p style=\"color:black; font-size: 15px; font-weight: bold;\">Her bir kriterin diğer kriterlerle karşılaştırılarak önem derecelerinin belirlendiği bir karşılaştırma matrisi oluşturulur. Karar verici, her iki kriter arasındaki önemi bir ölçekte belirler. Bu ölçek genellikle 1 ile 9 arasındadır, 1 eşit öneme sahip iken 9 en önemliyi ifade eder.</p>\n"
   ]
  },
  {
   "cell_type": "markdown",
   "id": "d46187ad",
   "metadata": {},
   "source": [
    "<h3 style=\"color:blue;\">Ağırlıklandırma </h3>\n"
   ]
  },
  {
   "cell_type": "markdown",
   "id": "f69632e9",
   "metadata": {},
   "source": [
    "<p style=\"color:black; font-size: 15px; font-weight: bold;\"> Karşılaştırma matrisi kullanılarak her kriterin diğer kriterlere göre olan önemi ağırlıklandırılır. Bu, kriterlerin öncelik sırasını belirleyen bir ağırlık vektörü oluşturulması anlamına gelir. Ağırlıklar, karar verici tarafından belirlenen tercihler ve kriterlerin önem derecelerine göre belirlenir.</p>\n"
   ]
  },
  {
   "cell_type": "markdown",
   "id": "3b0641e0",
   "metadata": {},
   "source": [
    "<h3 style=\"color:blue;\">Alternatiflerin Değerlendirilmesi  </h3>\n"
   ]
  },
  {
   "cell_type": "markdown",
   "id": "4f5236c0",
   "metadata": {},
   "source": [
    "<p style=\"color:black; font-size: 15px; font-weight: bold;\"> Değerlendirme altındaki her bir alternatif, belirlenen kriterler altında puanlanır. Her bir kriter için alternatifin performansını gösteren sayısal değerler atanır.</p>\n"
   ]
  },
  {
   "cell_type": "markdown",
   "id": "8301f870",
   "metadata": {},
   "source": [
    "<h3 style=\"color:blue;\">Toplam Skorların Hesaplanması</h3>\n"
   ]
  },
  {
   "cell_type": "markdown",
   "id": "2e561b20",
   "metadata": {},
   "source": [
    "<p style=\"color:black; font-size: 15px; font-weight: bold;\">Alternatiflerin her biri için, her kriterin ağırlığı ile puanları çarpılır ve toplanarak alternatifin toplam skoru elde edilir. Bu, her alternatifin her kriterin önemi göz önünde bulundurularak nasıl performans gösterdiğini gösteren bir ölçüdür.</p>\n"
   ]
  },
  {
   "cell_type": "markdown",
   "id": "5bfe45a6",
   "metadata": {},
   "source": [
    "<h3 style=\"color:blue;\">En İyi Seçimin Belirlenmesi </h3>\n"
   ]
  },
  {
   "cell_type": "markdown",
   "id": "d61e6116",
   "metadata": {},
   "source": [
    "<p style=\"color:black; font-size: 15px; font-weight: bold;\">Elde edilen toplam skorlar arasından en yüksek skora sahip olan alternatif, en uygun olanı olarak seçilir. Bu alternatif, karar vericinin belirlenen kriterlere en iyi şekilde uyduğunu gösterir.</p>\n"
   ]
  },
  {
   "cell_type": "markdown",
   "id": "89500138",
   "metadata": {},
   "source": [
    "<h2 style=\"color:blue;\">Avantajlar</h2>\n"
   ]
  },
  {
   "cell_type": "markdown",
   "id": "e868aec7",
   "metadata": {},
   "source": [
    "<h3 style=\"color:blue;\">Yapısal Bir Karar Süreci</h3>\n"
   ]
  },
  {
   "cell_type": "markdown",
   "id": "a2c75d63",
   "metadata": {},
   "source": [
    "<p style=\"color:black; font-size: 15px; font-weight: bold;\">AHP, karar verme sürecini adım adım yapılandırır ve karmaşıklığı azaltır.</p>\n"
   ]
  },
  {
   "cell_type": "markdown",
   "id": "ba95e55c",
   "metadata": {},
   "source": [
    "<h3 style=\"color:blue;\"> Açık ve Sistematik Karşılaştırmalar</h3>\n"
   ]
  },
  {
   "cell_type": "markdown",
   "id": "78e6e3ae",
   "metadata": {},
   "source": [
    "<p style=\"color:black; font-size: 15px; font-weight: bold;\">Kriterler ve alternatifler arasındaki karşılaştırmalar açıkça yapılır, bu da karar vericilere daha net bir anlayış sunar.</p>\n"
   ]
  },
  {
   "cell_type": "markdown",
   "id": "bfd7a1cf",
   "metadata": {},
   "source": [
    "<h3 style=\"color:blue;\">  Esneklik</h3>\n"
   ]
  },
  {
   "cell_type": "markdown",
   "id": "79626890",
   "metadata": {},
   "source": [
    "<p style=\"color:black; font-size: 15px; font-weight: bold;\">AHP, çeşitli sektörlerde ve alanlarda kullanılabilir ve farklı karmaşıklık seviyelerine uyum sağlayabilir.</p>\n"
   ]
  },
  {
   "cell_type": "markdown",
   "id": "1013dec8",
   "metadata": {},
   "source": [
    "<p style=\"color:black; font-size: 30px; font-weight: bold;\"> ___________________________________________________________</p>\n"
   ]
  },
  {
   "cell_type": "markdown",
   "id": "4a42f758",
   "metadata": {},
   "source": [
    "<p style=\"color:black; font-size: 30px; font-weight: bold;\"> ___________________________________________________________</p>\n"
   ]
  },
  {
   "cell_type": "markdown",
   "id": "b7aa1a73",
   "metadata": {},
   "source": [
    "<h1 style=\"color:orange;\">  Örnek</h1>\n"
   ]
  },
  {
   "cell_type": "markdown",
   "id": "ec4dbee6",
   "metadata": {},
   "source": [
    "<p style=\"color:red; font-size: 20px; font-weight: bold;\">Şirketiniz, ürünlerinizin üretiminde kullanılan hammadde ve malzemelerin tedarikinde en iyi tedarikçiyi seçmek istiyor. Ürün kalitesini artırmak, maliyetleri düşürmek ve teslim sürelerini optimize etmek için doğru tedarikçiyi seçmek kritik öneme sahip.</p>\n"
   ]
  },
  {
   "cell_type": "markdown",
   "id": "abdf50ca",
   "metadata": {},
   "source": [
    "<p style=\"color:red; font-size: 20px; font-weight: bold;\">Şirketinizin tedarikçi ağı oldukça geniş ve \"Tedarikçi A\" ile \"Tedarikçi T\" arasında 20 farklı seçenek bulunuyor. Üç ana kriter belirlendikten sonra (\"Kalite\", \"Fiyat\" ve \"Teslim Süresi\"), her bir tedarikçi için bu kriterlerin performansını gösteren bir karar matrisi oluşturuldu.</p>\n"
   ]
  },
  {
   "cell_type": "markdown",
   "id": "e3fc5beb",
   "metadata": {},
   "source": [
    "<p style=\"color:red; font-size: 20px; font-weight: bold;\"> Örneğin, \"Tedarikçi A\" belirli bir malzeme için 1-10 arasında bir puan aldı: Kalite için 8, Fiyat için 5 ve Teslim Süresi için 7 gibi.</p>\n"
   ]
  },
  {
   "cell_type": "markdown",
   "id": "9c218975",
   "metadata": {},
   "source": [
    "<p style=\"color:red; font-size: 20px; font-weight: bold;\"> Bu veriler kullanılarak Analitik Hiyerarşi Süreci (AHP) yöntemi uygulanacak. AHP, her bir tedarikçinin belirlenen kriterlere göre performansını değerlendirerek, hangi tedarikçinin en uygun seçenek olduğunu belirleyecek.</p>\n"
   ]
  },
  {
   "cell_type": "markdown",
   "id": "1b378c53",
   "metadata": {},
   "source": [
    "<p style=\"color:red; font-size: 20px; font-weight: bold;\">  Şirketiniz, AHP yöntemi kullanarak en uygun tedarikçiyi belirleyecek ve böylece üretim süreçlerini optimize edecek, maliyetleri düşürecek ve müşteri memnuniyetini artıracak.</p>\n"
   ]
  },
  {
   "cell_type": "code",
   "execution_count": 1,
   "id": "99e0b312",
   "metadata": {},
   "outputs": [],
   "source": [
    "import numpy as np\n",
    "import pandas as pd\n"
   ]
  },
  {
   "cell_type": "code",
   "execution_count": 2,
   "id": "e26e0886",
   "metadata": {},
   "outputs": [
    {
     "data": {
      "text/html": [
       "<div>\n",
       "<style scoped>\n",
       "    .dataframe tbody tr th:only-of-type {\n",
       "        vertical-align: middle;\n",
       "    }\n",
       "\n",
       "    .dataframe tbody tr th {\n",
       "        vertical-align: top;\n",
       "    }\n",
       "\n",
       "    .dataframe thead th {\n",
       "        text-align: right;\n",
       "    }\n",
       "</style>\n",
       "<table border=\"1\" class=\"dataframe\">\n",
       "  <thead>\n",
       "    <tr style=\"text-align: right;\">\n",
       "      <th></th>\n",
       "      <th>Kalite</th>\n",
       "      <th>Fiyat</th>\n",
       "      <th>Teslim Süresi</th>\n",
       "    </tr>\n",
       "  </thead>\n",
       "  <tbody>\n",
       "    <tr>\n",
       "      <th>Tedarikçi A</th>\n",
       "      <td>8</td>\n",
       "      <td>2</td>\n",
       "      <td>4</td>\n",
       "    </tr>\n",
       "    <tr>\n",
       "      <th>Tedarikçi B</th>\n",
       "      <td>3</td>\n",
       "      <td>2</td>\n",
       "      <td>8</td>\n",
       "    </tr>\n",
       "    <tr>\n",
       "      <th>Tedarikçi C</th>\n",
       "      <td>3</td>\n",
       "      <td>5</td>\n",
       "      <td>3</td>\n",
       "    </tr>\n",
       "    <tr>\n",
       "      <th>Tedarikçi D</th>\n",
       "      <td>5</td>\n",
       "      <td>8</td>\n",
       "      <td>4</td>\n",
       "    </tr>\n",
       "    <tr>\n",
       "      <th>Tedarikçi E</th>\n",
       "      <td>5</td>\n",
       "      <td>9</td>\n",
       "      <td>4</td>\n",
       "    </tr>\n",
       "    <tr>\n",
       "      <th>Tedarikçi F</th>\n",
       "      <td>2</td>\n",
       "      <td>9</td>\n",
       "      <td>8</td>\n",
       "    </tr>\n",
       "    <tr>\n",
       "      <th>Tedarikçi G</th>\n",
       "      <td>5</td>\n",
       "      <td>4</td>\n",
       "      <td>9</td>\n",
       "    </tr>\n",
       "    <tr>\n",
       "      <th>Tedarikçi H</th>\n",
       "      <td>5</td>\n",
       "      <td>3</td>\n",
       "      <td>8</td>\n",
       "    </tr>\n",
       "    <tr>\n",
       "      <th>Tedarikçi I</th>\n",
       "      <td>1</td>\n",
       "      <td>9</td>\n",
       "      <td>6</td>\n",
       "    </tr>\n",
       "    <tr>\n",
       "      <th>Tedarikçi J</th>\n",
       "      <td>1</td>\n",
       "      <td>5</td>\n",
       "      <td>6</td>\n",
       "    </tr>\n",
       "    <tr>\n",
       "      <th>Tedarikçi K</th>\n",
       "      <td>3</td>\n",
       "      <td>3</td>\n",
       "      <td>4</td>\n",
       "    </tr>\n",
       "    <tr>\n",
       "      <th>Tedarikçi L</th>\n",
       "      <td>8</td>\n",
       "      <td>9</td>\n",
       "      <td>1</td>\n",
       "    </tr>\n",
       "    <tr>\n",
       "      <th>Tedarikçi M</th>\n",
       "      <td>6</td>\n",
       "      <td>9</td>\n",
       "      <td>2</td>\n",
       "    </tr>\n",
       "    <tr>\n",
       "      <th>Tedarikçi N</th>\n",
       "      <td>7</td>\n",
       "      <td>2</td>\n",
       "      <td>6</td>\n",
       "    </tr>\n",
       "    <tr>\n",
       "      <th>Tedarikçi O</th>\n",
       "      <td>5</td>\n",
       "      <td>2</td>\n",
       "      <td>6</td>\n",
       "    </tr>\n",
       "    <tr>\n",
       "      <th>Tedarikçi P</th>\n",
       "      <td>2</td>\n",
       "      <td>5</td>\n",
       "      <td>6</td>\n",
       "    </tr>\n",
       "    <tr>\n",
       "      <th>Tedarikçi Q</th>\n",
       "      <td>1</td>\n",
       "      <td>1</td>\n",
       "      <td>4</td>\n",
       "    </tr>\n",
       "    <tr>\n",
       "      <th>Tedarikçi R</th>\n",
       "      <td>7</td>\n",
       "      <td>3</td>\n",
       "      <td>1</td>\n",
       "    </tr>\n",
       "    <tr>\n",
       "      <th>Tedarikçi S</th>\n",
       "      <td>9</td>\n",
       "      <td>7</td>\n",
       "      <td>8</td>\n",
       "    </tr>\n",
       "    <tr>\n",
       "      <th>Tedarikçi T</th>\n",
       "      <td>3</td>\n",
       "      <td>7</td>\n",
       "      <td>5</td>\n",
       "    </tr>\n",
       "  </tbody>\n",
       "</table>\n",
       "</div>"
      ],
      "text/plain": [
       "             Kalite  Fiyat  Teslim Süresi\n",
       "Tedarikçi A       8      2              4\n",
       "Tedarikçi B       3      2              8\n",
       "Tedarikçi C       3      5              3\n",
       "Tedarikçi D       5      8              4\n",
       "Tedarikçi E       5      9              4\n",
       "Tedarikçi F       2      9              8\n",
       "Tedarikçi G       5      4              9\n",
       "Tedarikçi H       5      3              8\n",
       "Tedarikçi I       1      9              6\n",
       "Tedarikçi J       1      5              6\n",
       "Tedarikçi K       3      3              4\n",
       "Tedarikçi L       8      9              1\n",
       "Tedarikçi M       6      9              2\n",
       "Tedarikçi N       7      2              6\n",
       "Tedarikçi O       5      2              6\n",
       "Tedarikçi P       2      5              6\n",
       "Tedarikçi Q       1      1              4\n",
       "Tedarikçi R       7      3              1\n",
       "Tedarikçi S       9      7              8\n",
       "Tedarikçi T       3      7              5"
      ]
     },
     "execution_count": 2,
     "metadata": {},
     "output_type": "execute_result"
    }
   ],
   "source": [
    "tedarikciler = [\"Tedarikçi A\", \"Tedarikçi B\", \"Tedarikçi C\", \"Tedarikçi D\", \"Tedarikçi E\",\n",
    "           \"Tedarikçi F\", \"Tedarikçi G\", \"Tedarikçi H\", \"Tedarikçi I\", \"Tedarikçi J\",\n",
    "           \"Tedarikçi K\", \"Tedarikçi L\", \"Tedarikçi M\", \"Tedarikçi N\", \"Tedarikçi O\",\n",
    "           \"Tedarikçi P\", \"Tedarikçi Q\", \"Tedarikçi R\", \"Tedarikçi S\", \"Tedarikçi T\"]\n",
    "kriterler = [\"Kalite\", \"Fiyat\", \"Teslim Süresi\"]\n",
    "\n",
    "karar_matrisi = np.random.randint(1, 10, size=(20, 3))\n",
    "df = pd.DataFrame(data=karar_matrisi, columns=kriterler, index=tedarikciler)\n",
    "df"
   ]
  },
  {
   "cell_type": "code",
   "execution_count": 3,
   "id": "ea5d7b36",
   "metadata": {},
   "outputs": [],
   "source": [
    "agirliklar = np.mean(karar_matrisi, axis=1)\n",
    "normalize_matris = karar_matrisi / agirliklar[:, None]\n",
    "kriter_agirliklari = np.mean(normalize_matris, axis=0)\n",
    "toplam_agirliklar = np.sum(normalize_matris * kriter_agirliklari, axis=1)\n",
    "en_iyi_index = np.argmax(toplam_agirliklar)\n",
    "en_iyi_tedarikci = tedarikciler[en_iyi_index]"
   ]
  },
  {
   "cell_type": "code",
   "execution_count": 4,
   "id": "be6bf4c6",
   "metadata": {},
   "outputs": [
    {
     "name": "stdout",
     "output_type": "stream",
     "text": [
      "Kriterlerin Ağırlık Vektörleri:\n",
      "Kalite: 0.8953108346761598\n",
      "Fiyat: 1.017501599277915\n",
      "Teslim Süresi: 1.0871875660459251\n"
     ]
    }
   ],
   "source": [
    "print(\"Kriterlerin Ağırlık Vektörleri:\")\n",
    "for i, kriter in enumerate(kriterler):\n",
    "    print(f\"{kriter}: {kriter_agirliklari[i]}\")\n"
   ]
  },
  {
   "cell_type": "code",
   "execution_count": 5,
   "id": "8a783cf0",
   "metadata": {},
   "outputs": [
    {
     "name": "stdout",
     "output_type": "stream",
     "text": [
      "Tedarikçi Seçeneklerinin Toplam Ağırlıklı Puanları:\n",
      "Tedarikçi A: 2.902765744317602\n",
      "Tedarikçi B: 3.0965622071427026\n",
      "Tedarikçi C: 3.009546326878863\n",
      "Tedarikçi D: 2.993879511491968\n",
      "Tedarikçi E: 2.997136471844289\n",
      "Tedarikçi F: 3.101942619666467\n",
      "Tedarikçi G: 3.055208110817631\n",
      "Tedarikçi H: 3.042479906171615\n",
      "Tedarikçi I: 3.1079907420849273\n",
      "Tedarikçi J: 3.1264860568353217\n",
      "Tedarikçi K: 3.0261562698137774\n",
      "Tedarikçi L: 2.9011981061594065\n",
      "Tedarikçi M: 2.947721388291184\n",
      "Tedarikçi N: 2.9650608875129\n",
      "Tedarikçi O: 3.008003715741273\n",
      "Tedarikçi P: 3.0925973220040266\n",
      "Tedarikçi Q: 3.130781349068888\n",
      "Tedarikçi R: 2.83823678362167\n",
      "Tedarikçi S: 2.9847261544247807\n",
      "Tedarikçi T: 3.048876305840702\n"
     ]
    }
   ],
   "source": [
    "print(\"Tedarikçi Seçeneklerinin Toplam Ağırlıklı Puanları:\")\n",
    "for i, tedarikci in enumerate(tedarikciler):\n",
    "    print(f\"{tedarikci}: {toplam_agirliklar[i]}\")\n"
   ]
  },
  {
   "cell_type": "code",
   "execution_count": 6,
   "id": "2fbd1b14",
   "metadata": {},
   "outputs": [
    {
     "name": "stdout",
     "output_type": "stream",
     "text": [
      "En iyi tedarikçi: Tedarikçi Q (Toplam Ağırlıklı Puan: 3.130781349068888)\n"
     ]
    }
   ],
   "source": [
    "print(f\"En iyi tedarikçi: {en_iyi_tedarikci} (Toplam Ağırlıklı Puan: {toplam_agirliklar[en_iyi_index]})\")"
   ]
  }
 ],
 "metadata": {
  "kernelspec": {
   "display_name": "Python 3 (ipykernel)",
   "language": "python",
   "name": "python3"
  },
  "language_info": {
   "codemirror_mode": {
    "name": "ipython",
    "version": 3
   },
   "file_extension": ".py",
   "mimetype": "text/x-python",
   "name": "python",
   "nbconvert_exporter": "python",
   "pygments_lexer": "ipython3",
   "version": "3.11.5"
  }
 },
 "nbformat": 4,
 "nbformat_minor": 5
}
