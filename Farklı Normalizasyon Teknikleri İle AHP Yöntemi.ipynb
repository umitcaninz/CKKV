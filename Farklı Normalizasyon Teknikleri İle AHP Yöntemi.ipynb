{
 "cells": [
  {
   "cell_type": "markdown",
   "id": "891d9fc6",
   "metadata": {},
   "source": [
    "<h1 style=\"color:purple;\">Farklı Normalizasyon Teknikleri İle AHP Yöntemi</h1>\n",
    "\n"
   ]
  },
  {
   "cell_type": "code",
   "execution_count": 1,
   "id": "39c5f829",
   "metadata": {},
   "outputs": [],
   "source": [
    "import numpy as np\n",
    "import pandas as pd\n",
    "from sklearn.preprocessing import MinMaxScaler, StandardScaler, PowerTransformer, RobustScaler\n",
    "from scipy.stats import spearmanr\n",
    "\n",
    "num_suppliers = 1000000\n",
    "num_criteria = 3\n",
    "\n",
    "tedarikciler = [\"Tedarikçi {}\".format(i) for i in range(1, num_suppliers + 1)]\n",
    "kriterler = [\"Kalite\", \"Fiyat\", \"Teslim Süresi\"]\n",
    "\n",
    "np.random.seed(42)\n",
    "decision_matrix = np.random.randint(1, 10, size=(num_suppliers, num_criteria))\n",
    "\n",
    "df = pd.DataFrame(data=decision_matrix, columns=kriterler, index=tedarikciler)"
   ]
  },
  {
   "cell_type": "code",
   "execution_count": 2,
   "id": "d1e2a053",
   "metadata": {},
   "outputs": [
    {
     "data": {
      "text/html": [
       "<div>\n",
       "<style scoped>\n",
       "    .dataframe tbody tr th:only-of-type {\n",
       "        vertical-align: middle;\n",
       "    }\n",
       "\n",
       "    .dataframe tbody tr th {\n",
       "        vertical-align: top;\n",
       "    }\n",
       "\n",
       "    .dataframe thead th {\n",
       "        text-align: right;\n",
       "    }\n",
       "</style>\n",
       "<table border=\"1\" class=\"dataframe\">\n",
       "  <thead>\n",
       "    <tr style=\"text-align: right;\">\n",
       "      <th></th>\n",
       "      <th>Kalite</th>\n",
       "      <th>Fiyat</th>\n",
       "      <th>Teslim Süresi</th>\n",
       "    </tr>\n",
       "  </thead>\n",
       "  <tbody>\n",
       "    <tr>\n",
       "      <th>Tedarikçi 1</th>\n",
       "      <td>7</td>\n",
       "      <td>4</td>\n",
       "      <td>8</td>\n",
       "    </tr>\n",
       "    <tr>\n",
       "      <th>Tedarikçi 2</th>\n",
       "      <td>5</td>\n",
       "      <td>7</td>\n",
       "      <td>3</td>\n",
       "    </tr>\n",
       "    <tr>\n",
       "      <th>Tedarikçi 3</th>\n",
       "      <td>7</td>\n",
       "      <td>8</td>\n",
       "      <td>5</td>\n",
       "    </tr>\n",
       "    <tr>\n",
       "      <th>Tedarikçi 4</th>\n",
       "      <td>4</td>\n",
       "      <td>8</td>\n",
       "      <td>8</td>\n",
       "    </tr>\n",
       "    <tr>\n",
       "      <th>Tedarikçi 5</th>\n",
       "      <td>3</td>\n",
       "      <td>6</td>\n",
       "      <td>5</td>\n",
       "    </tr>\n",
       "    <tr>\n",
       "      <th>...</th>\n",
       "      <td>...</td>\n",
       "      <td>...</td>\n",
       "      <td>...</td>\n",
       "    </tr>\n",
       "    <tr>\n",
       "      <th>Tedarikçi 999996</th>\n",
       "      <td>8</td>\n",
       "      <td>9</td>\n",
       "      <td>7</td>\n",
       "    </tr>\n",
       "    <tr>\n",
       "      <th>Tedarikçi 999997</th>\n",
       "      <td>5</td>\n",
       "      <td>2</td>\n",
       "      <td>9</td>\n",
       "    </tr>\n",
       "    <tr>\n",
       "      <th>Tedarikçi 999998</th>\n",
       "      <td>1</td>\n",
       "      <td>3</td>\n",
       "      <td>1</td>\n",
       "    </tr>\n",
       "    <tr>\n",
       "      <th>Tedarikçi 999999</th>\n",
       "      <td>4</td>\n",
       "      <td>1</td>\n",
       "      <td>5</td>\n",
       "    </tr>\n",
       "    <tr>\n",
       "      <th>Tedarikçi 1000000</th>\n",
       "      <td>1</td>\n",
       "      <td>2</td>\n",
       "      <td>3</td>\n",
       "    </tr>\n",
       "  </tbody>\n",
       "</table>\n",
       "<p>1000000 rows × 3 columns</p>\n",
       "</div>"
      ],
      "text/plain": [
       "                   Kalite  Fiyat  Teslim Süresi\n",
       "Tedarikçi 1             7      4              8\n",
       "Tedarikçi 2             5      7              3\n",
       "Tedarikçi 3             7      8              5\n",
       "Tedarikçi 4             4      8              8\n",
       "Tedarikçi 5             3      6              5\n",
       "...                   ...    ...            ...\n",
       "Tedarikçi 999996        8      9              7\n",
       "Tedarikçi 999997        5      2              9\n",
       "Tedarikçi 999998        1      3              1\n",
       "Tedarikçi 999999        4      1              5\n",
       "Tedarikçi 1000000       1      2              3\n",
       "\n",
       "[1000000 rows x 3 columns]"
      ]
     },
     "execution_count": 2,
     "metadata": {},
     "output_type": "execute_result"
    }
   ],
   "source": [
    "df"
   ]
  },
  {
   "cell_type": "markdown",
   "id": "dccadd0e",
   "metadata": {},
   "source": [
    "<h1 style=\"color:purple;\">Min-Max Normalizasyonu</h1>\n"
   ]
  },
  {
   "cell_type": "code",
   "execution_count": 3,
   "id": "bafdb8ff",
   "metadata": {},
   "outputs": [],
   "source": [
    "min_max_normalizer = MinMaxScaler()\n",
    "normalize_matris_min_max = min_max_normalizer.fit_transform(decision_matrix)\n",
    "tedarikci_agirliklari_min_max = np.mean(normalize_matris_min_max, axis=1)\n",
    "kriter_agirliklari_min_max = np.mean(normalize_matris_min_max, axis=0)\n",
    "toplam_agirliklar_min_max = np.sum(normalize_matris_min_max * kriter_agirliklari_min_max, axis=1)\n",
    "en_iyi_index_min_max = np.argmax(toplam_agirliklar_min_max)\n",
    "en_iyi_tedarikci_min_max = tedarikciler[en_iyi_index_min_max]"
   ]
  },
  {
   "cell_type": "markdown",
   "id": "d8cc3c87",
   "metadata": {},
   "source": [
    "<h3 style=\"color:green;\">Min-Max ile En İyi 5 Tedarikçi</h3>\n"
   ]
  },
  {
   "cell_type": "code",
   "execution_count": 4,
   "id": "824d9668",
   "metadata": {},
   "outputs": [
    {
     "name": "stdout",
     "output_type": "stream",
     "text": [
      "Tedarikçi Seçeneklerinin Toplam Ağırlıklı Puanları:\n",
      "Tedarikçi 1310: 1.499738\n",
      "Tedarikçi 1538: 1.499738\n",
      "Tedarikçi 2843: 1.499738\n",
      "Tedarikçi 4578: 1.499738\n",
      "Tedarikçi 4851: 1.499738\n"
     ]
    }
   ],
   "source": [
    "print(\"Tedarikçi Seçeneklerinin Toplam Ağırlıklı Puanları:\")\n",
    "tedarikci_puanlari = list(zip(tedarikciler, toplam_agirliklar_min_max))\n",
    "tedarikci_puanlari.sort(key=lambda x: x[1], reverse=True)  # Puanlara göre sıralama\n",
    "for tedarikci, puan in tedarikci_puanlari[:5]:  # İlk 5 tedarikçiyi yazdırma\n",
    "    print(f\"{tedarikci}: {puan}\")\n"
   ]
  },
  {
   "cell_type": "markdown",
   "id": "bc2f8b63",
   "metadata": {},
   "source": [
    "<h1 style=\"color:purple;\">Z-Score Normalizasyonu</h1>\n"
   ]
  },
  {
   "cell_type": "code",
   "execution_count": 5,
   "id": "b29bad1e",
   "metadata": {},
   "outputs": [],
   "source": [
    "z_score_normalizer = StandardScaler()\n",
    "normalize_matris_z_score = z_score_normalizer.fit_transform(decision_matrix)\n",
    "tedarikci_agirliklari_z_score = np.mean(normalize_matris_z_score, axis=1)\n",
    "kriter_agirliklari_z_score = np.mean(normalize_matris_z_score, axis=0)\n",
    "toplam_agirliklar_z_score = np.sum(normalize_matris_z_score * kriter_agirliklari_z_score, axis=1)\n",
    "en_iyi_index_z_score = np.argmax(toplam_agirliklar_z_score)\n",
    "en_iyi_tedarikci_z_score = tedarikciler[en_iyi_index_z_score]\n"
   ]
  },
  {
   "cell_type": "markdown",
   "id": "fa1b249e",
   "metadata": {},
   "source": [
    "<h3 style=\"color:green;\">Z-Score ile En İyi 5 Tedarikçi</h3>\n"
   ]
  },
  {
   "cell_type": "code",
   "execution_count": 6,
   "id": "65ee5255",
   "metadata": {},
   "outputs": [
    {
     "name": "stdout",
     "output_type": "stream",
     "text": [
      "Tedarikçi Seçeneklerinin Toplam Ağırlıklı Puanları:\n",
      "Tedarikçi 178: 9.802998818948315e-15\n",
      "Tedarikçi 2375: 9.802998818948315e-15\n",
      "Tedarikçi 2381: 9.802998818948315e-15\n",
      "Tedarikçi 4407: 9.802998818948315e-15\n",
      "Tedarikçi 4827: 9.802998818948315e-15\n"
     ]
    }
   ],
   "source": [
    "print(\"Tedarikçi Seçeneklerinin Toplam Ağırlıklı Puanları:\")\n",
    "tedarikci_puanlari = list(zip(tedarikciler, toplam_agirliklar_z_score))\n",
    "tedarikci_puanlari.sort(key=lambda x: x[1], reverse=True)  \n",
    "for tedarikci, puan in tedarikci_puanlari[:5]:  \n",
    "    print(f\"{tedarikci}: {puan}\")\n"
   ]
  },
  {
   "cell_type": "markdown",
   "id": "6f617e75",
   "metadata": {},
   "source": [
    "<h1 style=\"color:purple;\">Log Dönüşümü</h1>\n"
   ]
  },
  {
   "cell_type": "code",
   "execution_count": 7,
   "id": "fa867b06",
   "metadata": {},
   "outputs": [],
   "source": [
    "log_transform_normalizer = PowerTransformer(method='box-cox')\n",
    "normalize_matris_log_transform = log_transform_normalizer.fit_transform(decision_matrix)\n",
    "tedarikci_agirliklari_log_transform = np.mean(normalize_matris_log_transform, axis=1)\n",
    "kriter_agirliklari_log_transform = np.mean(normalize_matris_log_transform, axis=0)\n",
    "toplam_agirliklar_log_transform = np.sum(normalize_matris_log_transform * kriter_agirliklari_log_transform, axis=1)\n",
    "en_iyi_index_log_transform = np.argmax(toplam_agirliklar_log_transform)\n",
    "en_iyi_tedarikci_log_transform = tedarikciler[en_iyi_index_log_transform]"
   ]
  },
  {
   "cell_type": "markdown",
   "id": "55bb8595",
   "metadata": {},
   "source": [
    "<h3 style=\"color:green;\">Log Dönüşümü ile En İyi 5 Tedarikçi</h3>\n"
   ]
  },
  {
   "cell_type": "code",
   "execution_count": 8,
   "id": "558a17cf",
   "metadata": {},
   "outputs": [
    {
     "name": "stdout",
     "output_type": "stream",
     "text": [
      "Tedarikçi Seçeneklerinin Toplam Ağırlıklı Puanları:\n",
      "Tedarikçi 172: 1.8056531659144068e-11\n",
      "Tedarikçi 410: 1.8056531659144068e-11\n",
      "Tedarikçi 1648: 1.8056531659144068e-11\n",
      "Tedarikçi 2733: 1.8056531659144068e-11\n",
      "Tedarikçi 3845: 1.8056531659144068e-11\n"
     ]
    }
   ],
   "source": [
    "print(\"Tedarikçi Seçeneklerinin Toplam Ağırlıklı Puanları:\")\n",
    "tedarikci_puanlari = list(zip(tedarikciler, toplam_agirliklar_log_transform))\n",
    "tedarikci_puanlari.sort(key=lambda x: x[1], reverse=True)  \n",
    "for tedarikci, puan in tedarikci_puanlari[:5]:  \n",
    "    print(f\"{tedarikci}: {puan}\")\n"
   ]
  },
  {
   "cell_type": "markdown",
   "id": "77b13d86",
   "metadata": {},
   "source": [
    "<h1 style=\"color:purple;\">Robust Scaler</h1>\n"
   ]
  },
  {
   "cell_type": "code",
   "execution_count": 9,
   "id": "74f12a00",
   "metadata": {},
   "outputs": [],
   "source": [
    "robust_scaler_normalizer = RobustScaler()\n",
    "normalize_matris_robust_scaler = robust_scaler_normalizer.fit_transform(decision_matrix)\n",
    "tedarikci_agirliklari_robust_scaler = np.mean(normalize_matris_robust_scaler, axis=1)\n",
    "kriter_agirliklari_robust_scaler = np.mean(normalize_matris_robust_scaler, axis=0)\n",
    "toplam_agirliklar_robust_scaler = np.sum(normalize_matris_robust_scaler * kriter_agirliklari_robust_scaler, axis=1)\n",
    "en_iyi_index_robust_scaler = np.argmax(toplam_agirliklar_robust_scaler)\n",
    "en_iyi_tedarikci_robust_scaler = tedarikciler[en_iyi_index_robust_scaler]"
   ]
  },
  {
   "cell_type": "markdown",
   "id": "c6a03b3c",
   "metadata": {},
   "source": [
    "<h3 style=\"color:green;\">Robust Scaler ile En İyi 5 Tedarikçi</h3>\n"
   ]
  },
  {
   "cell_type": "code",
   "execution_count": 10,
   "id": "afda156a",
   "metadata": {},
   "outputs": [
    {
     "name": "stdout",
     "output_type": "stream",
     "text": [
      "Tedarikçi Seçeneklerinin Toplam Ağırlıklı Puanları:\n",
      "Tedarikçi 178: 0.001323\n",
      "Tedarikçi 2375: 0.001323\n",
      "Tedarikçi 2381: 0.001323\n",
      "Tedarikçi 4407: 0.001323\n",
      "Tedarikçi 4827: 0.001323\n"
     ]
    }
   ],
   "source": [
    "print(\"Tedarikçi Seçeneklerinin Toplam Ağırlıklı Puanları:\")\n",
    "tedarikci_puanlari = list(zip(tedarikciler, toplam_agirliklar_robust_scaler))\n",
    "tedarikci_puanlari.sort(key=lambda x: x[1], reverse=True)  \n",
    "for tedarikci, puan in tedarikci_puanlari[:5]:  \n",
    "    print(f\"{tedarikci}: {puan}\")\n"
   ]
  },
  {
   "cell_type": "markdown",
   "id": "19a26230",
   "metadata": {},
   "source": [
    "<h3 style=\"color:green;\">Farklı Normalizasyon Yöntemlerine Göre En İyi Tedarikçi</h3>\n"
   ]
  },
  {
   "cell_type": "code",
   "execution_count": 17,
   "id": "88cfc75c",
   "metadata": {
    "scrolled": false
   },
   "outputs": [
    {
     "name": "stdout",
     "output_type": "stream",
     "text": [
      "Min-Max Normalizasyonu En İyi Tedarikçi: Tedarikçi 1310\n",
      "Z-Score Normalizasyonu En İyi Tedarikçi: Tedarikçi 178\n",
      "Log Dönüşümü En İyi Tedarikçi: Tedarikçi 172\n",
      "Robust Scaler En İyi Tedarikçi: Tedarikçi 178\n"
     ]
    }
   ],
   "source": [
    "print(\"Min-Max Normalizasyonu En İyi Tedarikçi:\", en_iyi_tedarikci_min_max)\n",
    "print(\"Z-Score Normalizasyonu En İyi Tedarikçi:\", en_iyi_tedarikci_z_score)\n",
    "print(\"Log Dönüşümü En İyi Tedarikçi:\", en_iyi_tedarikci_log_transform)\n",
    "print(\"Robust Scaler En İyi Tedarikçi:\", en_iyi_tedarikci_robust_scaler)"
   ]
  },
  {
   "cell_type": "markdown",
   "id": "73d9a156",
   "metadata": {},
   "source": [
    "<h3 style=\"color:green;\">Farklı Normalizasyon Yöntemlerine Göre En İyi Tedarikçiler(İyiden Kötüye)</h3>\n"
   ]
  },
  {
   "cell_type": "code",
   "execution_count": 12,
   "id": "5f5f3ef1",
   "metadata": {},
   "outputs": [
    {
     "data": {
      "text/html": [
       "<div>\n",
       "<style scoped>\n",
       "    .dataframe tbody tr th:only-of-type {\n",
       "        vertical-align: middle;\n",
       "    }\n",
       "\n",
       "    .dataframe tbody tr th {\n",
       "        vertical-align: top;\n",
       "    }\n",
       "\n",
       "    .dataframe thead th {\n",
       "        text-align: right;\n",
       "    }\n",
       "</style>\n",
       "<table border=\"1\" class=\"dataframe\">\n",
       "  <thead>\n",
       "    <tr style=\"text-align: right;\">\n",
       "      <th></th>\n",
       "      <th>Original</th>\n",
       "      <th>Min-Max</th>\n",
       "      <th>Z-Score</th>\n",
       "      <th>Log Transform</th>\n",
       "      <th>Robust Scaler</th>\n",
       "    </tr>\n",
       "  </thead>\n",
       "  <tbody>\n",
       "    <tr>\n",
       "      <th>0</th>\n",
       "      <td>Tedarikçi 1</td>\n",
       "      <td>Tedarikçi 1310</td>\n",
       "      <td>Tedarikçi 178</td>\n",
       "      <td>Tedarikçi 172</td>\n",
       "      <td>Tedarikçi 178</td>\n",
       "    </tr>\n",
       "    <tr>\n",
       "      <th>1</th>\n",
       "      <td>Tedarikçi 2</td>\n",
       "      <td>Tedarikçi 1310</td>\n",
       "      <td>Tedarikçi 178</td>\n",
       "      <td>Tedarikçi 172</td>\n",
       "      <td>Tedarikçi 178</td>\n",
       "    </tr>\n",
       "    <tr>\n",
       "      <th>2</th>\n",
       "      <td>Tedarikçi 3</td>\n",
       "      <td>Tedarikçi 1310</td>\n",
       "      <td>Tedarikçi 178</td>\n",
       "      <td>Tedarikçi 172</td>\n",
       "      <td>Tedarikçi 178</td>\n",
       "    </tr>\n",
       "    <tr>\n",
       "      <th>3</th>\n",
       "      <td>Tedarikçi 4</td>\n",
       "      <td>Tedarikçi 1310</td>\n",
       "      <td>Tedarikçi 178</td>\n",
       "      <td>Tedarikçi 172</td>\n",
       "      <td>Tedarikçi 178</td>\n",
       "    </tr>\n",
       "    <tr>\n",
       "      <th>4</th>\n",
       "      <td>Tedarikçi 5</td>\n",
       "      <td>Tedarikçi 1310</td>\n",
       "      <td>Tedarikçi 178</td>\n",
       "      <td>Tedarikçi 172</td>\n",
       "      <td>Tedarikçi 178</td>\n",
       "    </tr>\n",
       "    <tr>\n",
       "      <th>...</th>\n",
       "      <td>...</td>\n",
       "      <td>...</td>\n",
       "      <td>...</td>\n",
       "      <td>...</td>\n",
       "      <td>...</td>\n",
       "    </tr>\n",
       "    <tr>\n",
       "      <th>999995</th>\n",
       "      <td>Tedarikçi 999996</td>\n",
       "      <td>Tedarikçi 1310</td>\n",
       "      <td>Tedarikçi 178</td>\n",
       "      <td>Tedarikçi 172</td>\n",
       "      <td>Tedarikçi 178</td>\n",
       "    </tr>\n",
       "    <tr>\n",
       "      <th>999996</th>\n",
       "      <td>Tedarikçi 999997</td>\n",
       "      <td>Tedarikçi 1310</td>\n",
       "      <td>Tedarikçi 178</td>\n",
       "      <td>Tedarikçi 172</td>\n",
       "      <td>Tedarikçi 178</td>\n",
       "    </tr>\n",
       "    <tr>\n",
       "      <th>999997</th>\n",
       "      <td>Tedarikçi 999998</td>\n",
       "      <td>Tedarikçi 1310</td>\n",
       "      <td>Tedarikçi 178</td>\n",
       "      <td>Tedarikçi 172</td>\n",
       "      <td>Tedarikçi 178</td>\n",
       "    </tr>\n",
       "    <tr>\n",
       "      <th>999998</th>\n",
       "      <td>Tedarikçi 999999</td>\n",
       "      <td>Tedarikçi 1310</td>\n",
       "      <td>Tedarikçi 178</td>\n",
       "      <td>Tedarikçi 172</td>\n",
       "      <td>Tedarikçi 178</td>\n",
       "    </tr>\n",
       "    <tr>\n",
       "      <th>999999</th>\n",
       "      <td>Tedarikçi 1000000</td>\n",
       "      <td>Tedarikçi 1310</td>\n",
       "      <td>Tedarikçi 178</td>\n",
       "      <td>Tedarikçi 172</td>\n",
       "      <td>Tedarikçi 178</td>\n",
       "    </tr>\n",
       "  </tbody>\n",
       "</table>\n",
       "<p>1000000 rows × 5 columns</p>\n",
       "</div>"
      ],
      "text/plain": [
       "                 Original         Min-Max        Z-Score  Log Transform  \\\n",
       "0             Tedarikçi 1  Tedarikçi 1310  Tedarikçi 178  Tedarikçi 172   \n",
       "1             Tedarikçi 2  Tedarikçi 1310  Tedarikçi 178  Tedarikçi 172   \n",
       "2             Tedarikçi 3  Tedarikçi 1310  Tedarikçi 178  Tedarikçi 172   \n",
       "3             Tedarikçi 4  Tedarikçi 1310  Tedarikçi 178  Tedarikçi 172   \n",
       "4             Tedarikçi 5  Tedarikçi 1310  Tedarikçi 178  Tedarikçi 172   \n",
       "...                   ...             ...            ...            ...   \n",
       "999995   Tedarikçi 999996  Tedarikçi 1310  Tedarikçi 178  Tedarikçi 172   \n",
       "999996   Tedarikçi 999997  Tedarikçi 1310  Tedarikçi 178  Tedarikçi 172   \n",
       "999997   Tedarikçi 999998  Tedarikçi 1310  Tedarikçi 178  Tedarikçi 172   \n",
       "999998   Tedarikçi 999999  Tedarikçi 1310  Tedarikçi 178  Tedarikçi 172   \n",
       "999999  Tedarikçi 1000000  Tedarikçi 1310  Tedarikçi 178  Tedarikçi 172   \n",
       "\n",
       "        Robust Scaler  \n",
       "0       Tedarikçi 178  \n",
       "1       Tedarikçi 178  \n",
       "2       Tedarikçi 178  \n",
       "3       Tedarikçi 178  \n",
       "4       Tedarikçi 178  \n",
       "...               ...  \n",
       "999995  Tedarikçi 178  \n",
       "999996  Tedarikçi 178  \n",
       "999997  Tedarikçi 178  \n",
       "999998  Tedarikçi 178  \n",
       "999999  Tedarikçi 178  \n",
       "\n",
       "[1000000 rows x 5 columns]"
      ]
     },
     "execution_count": 12,
     "metadata": {},
     "output_type": "execute_result"
    }
   ],
   "source": [
    "ranking_df = pd.DataFrame({\n",
    "    \"Original\": tedarikciler,\n",
    "    \"Min-Max\": en_iyi_tedarikci_min_max,\n",
    "    \"Z-Score\": en_iyi_tedarikci_z_score,\n",
    "    \"Log Transform\": en_iyi_tedarikci_log_transform,\n",
    "    \"Robust Scaler\": en_iyi_tedarikci_robust_scaler\n",
    "})\n",
    "\n",
    "ranking_df\n"
   ]
  },
  {
   "cell_type": "markdown",
   "id": "23158a7e",
   "metadata": {},
   "source": [
    "<h3 style=\"color:green;\">Farklı Normalizasyon Yöntemlerine Göre Spearman Korelasyon Matrisi</h3>\n"
   ]
  },
  {
   "cell_type": "code",
   "execution_count": 13,
   "id": "c14983c2",
   "metadata": {},
   "outputs": [],
   "source": [
    "correlation_matrix = pd.DataFrame(index=[\"Min-Max\", \"Z-Score\", \"Log Transform\",  \"Robust Scaler\"],\n",
    "                                  columns=[\"Min-Max\", \"Z-Score\", \"Log Transform\" , \"Robust Scaler\"])\n",
    "\n",
    "correlation_matrix.loc[\"Min-Max\", \"Z-Score\"] = spearmanr(toplam_agirliklar_min_max, toplam_agirliklar_z_score)[0]\n",
    "correlation_matrix.loc[\"Min-Max\", \"Log Transform\"] = spearmanr(toplam_agirliklar_min_max, toplam_agirliklar_log_transform)[0]\n",
    "correlation_matrix.loc[\"Min-Max\", \"Robust Scaler\"] = spearmanr(toplam_agirliklar_min_max, toplam_agirliklar_robust_scaler)[0]\n",
    "\n",
    "correlation_matrix.loc[\"Z-Score\", \"Log Transform\"] = spearmanr(toplam_agirliklar_z_score, toplam_agirliklar_log_transform)[0]\n",
    "correlation_matrix.loc[\"Z-Score\", \"Robust Scaler\"] = spearmanr(toplam_agirliklar_z_score, toplam_agirliklar_robust_scaler)[0]\n",
    "\n",
    "correlation_matrix.loc[\"Log Transform\", \"Robust Scaler\"] = spearmanr(toplam_agirliklar_log_transform, toplam_agirliklar_robust_scaler)[0]\n",
    "\n",
    "\n",
    "correlation_matrix = correlation_matrix.fillna(1)\n"
   ]
  },
  {
   "cell_type": "code",
   "execution_count": 14,
   "id": "9bf2ca34",
   "metadata": {},
   "outputs": [
    {
     "data": {
      "text/html": [
       "<div>\n",
       "<style scoped>\n",
       "    .dataframe tbody tr th:only-of-type {\n",
       "        vertical-align: middle;\n",
       "    }\n",
       "\n",
       "    .dataframe tbody tr th {\n",
       "        vertical-align: top;\n",
       "    }\n",
       "\n",
       "    .dataframe thead th {\n",
       "        text-align: right;\n",
       "    }\n",
       "</style>\n",
       "<table border=\"1\" class=\"dataframe\">\n",
       "  <thead>\n",
       "    <tr style=\"text-align: right;\">\n",
       "      <th></th>\n",
       "      <th>Min-Max</th>\n",
       "      <th>Z-Score</th>\n",
       "      <th>Log Transform</th>\n",
       "      <th>Robust Scaler</th>\n",
       "    </tr>\n",
       "  </thead>\n",
       "  <tbody>\n",
       "    <tr>\n",
       "      <th>Min-Max</th>\n",
       "      <td>1</td>\n",
       "      <td>-0.371505</td>\n",
       "      <td>-0.397064</td>\n",
       "      <td>-0.262074</td>\n",
       "    </tr>\n",
       "    <tr>\n",
       "      <th>Z-Score</th>\n",
       "      <td>1</td>\n",
       "      <td>1.000000</td>\n",
       "      <td>0.271624</td>\n",
       "      <td>0.513346</td>\n",
       "    </tr>\n",
       "    <tr>\n",
       "      <th>Log Transform</th>\n",
       "      <td>1</td>\n",
       "      <td>1.000000</td>\n",
       "      <td>1.000000</td>\n",
       "      <td>0.935268</td>\n",
       "    </tr>\n",
       "    <tr>\n",
       "      <th>Robust Scaler</th>\n",
       "      <td>1</td>\n",
       "      <td>1.000000</td>\n",
       "      <td>1.000000</td>\n",
       "      <td>1.000000</td>\n",
       "    </tr>\n",
       "  </tbody>\n",
       "</table>\n",
       "</div>"
      ],
      "text/plain": [
       "               Min-Max   Z-Score  Log Transform  Robust Scaler\n",
       "Min-Max              1 -0.371505      -0.397064      -0.262074\n",
       "Z-Score              1  1.000000       0.271624       0.513346\n",
       "Log Transform        1  1.000000       1.000000       0.935268\n",
       "Robust Scaler        1  1.000000       1.000000       1.000000"
      ]
     },
     "execution_count": 14,
     "metadata": {},
     "output_type": "execute_result"
    }
   ],
   "source": [
    "correlation_matrix"
   ]
  },
  {
   "cell_type": "markdown",
   "id": "406f4fa9",
   "metadata": {},
   "source": [
    "<p style=\"color:green; font-weight:bold; font-size:15px;\">Min-Max ile Z-Score arasındaki negatif korelasyon, bu iki normalizasyon yöntemi arasında ters yönlü bir ilişki olduğunu gösterir. Bir değişken artarken diğeri azalma eğilimindedir.</p>\n"
   ]
  },
  {
   "cell_type": "markdown",
   "id": "2c9f4330",
   "metadata": {},
   "source": [
    "<p style=\"color:green; font-weight:bold; font-size:15px;\">Z-Score ile Log Dönüşümü arasındaki düşük pozitif korelasyon, iki yöntem arasında zayıf bir doğrusal ilişki olduğunu gösterir.</p>\n"
   ]
  },
  {
   "cell_type": "markdown",
   "id": "86b20977",
   "metadata": {},
   "source": [
    "<p style=\"color:green; font-weight:bold; font-size:15px;\">Log Dönüşümü ile Robust Scaler arasındaki yüksek pozitif korelasyon, bu iki yöntem arasında güçlü bir ilişki olduğunu ve birbirini desteklediğini gösterir.</p>\n"
   ]
  },
  {
   "cell_type": "markdown",
   "id": "7e00746b",
   "metadata": {},
   "source": [
    "<p style=\"color:green; font-weight:bold; font-size:15px;\">Z-Score ile Robust Scaler arasındaki yüksek korelasyon, bu iki yöntem arasında da güçlü bir ilişki olduğunu gösterir.</p>\n"
   ]
  },
  {
   "cell_type": "code",
   "execution_count": null,
   "id": "6bdd904c",
   "metadata": {},
   "outputs": [],
   "source": []
  }
 ],
 "metadata": {
  "kernelspec": {
   "display_name": "Python 3 (ipykernel)",
   "language": "python",
   "name": "python3"
  },
  "language_info": {
   "codemirror_mode": {
    "name": "ipython",
    "version": 3
   },
   "file_extension": ".py",
   "mimetype": "text/x-python",
   "name": "python",
   "nbconvert_exporter": "python",
   "pygments_lexer": "ipython3",
   "version": "3.11.5"
  }
 },
 "nbformat": 4,
 "nbformat_minor": 5
}
