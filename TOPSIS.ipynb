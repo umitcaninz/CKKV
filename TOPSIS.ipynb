{
 "cells": [
  {
   "cell_type": "markdown",
   "id": "5c732f6f",
   "metadata": {},
   "source": [
    "<h1 style=\"color:green;\">TOPSIS (Technique for Order of Preference by Similarity to Ideal Solution)</h1>\n"
   ]
  },
  {
   "cell_type": "markdown",
   "id": "c65c14af",
   "metadata": {},
   "source": [
    "<p style=\"color:black; font-size: 15px; font-weight: bold;\">Çok kriterli karar verme problemlerinde en iyi veya en kötü alternatifleri belirlemek için kullanılan bir tekniktir. Aşağıda TOPSIS yönteminin ne olduğu, neden kullanıldığı, avantajları, AHP (Analytic Hierarchy Process) ile farkları ve TOPSIS sonuçlarının nasıl yorumlanacağı hakkında bilgiler bulunmaktadır.</p>\n"
   ]
  },
  {
   "cell_type": "markdown",
   "id": "eb382272",
   "metadata": {},
   "source": [
    "<h3 style=\"color:green;\">1. TOPSIS Yöntemi Nedir ve Neden Kullanılır?</h3>\n"
   ]
  },
  {
   "cell_type": "markdown",
   "id": "acaf2c8d",
   "metadata": {},
   "source": [
    "<p style=\"color:black; font-size: 15px; font-weight: bold;\">TOPSIS yöntemi, çok kriterli karar verme problemlerinde en iyi alternatifi belirlemek için kullanılan bir tekniktir.\n",
    "Bir karar matrisi içindeki alternatiflerin performanslarını analiz eder ve ideal en iyi ve ideal en kötü alternatiflere olan benzerliklerine göre sıralar.\n",
    "TOPSIS, karar vericinin tercihlerini ve kriterlerin önem derecelerini dikkate alır.\n",
    "Bu yöntem, karmaşık karar verme süreçlerini basitleştirerek, karar alıcıların daha iyi bilgilendirilmiş kararlar vermesine yardımcı olur.</p>\n"
   ]
  },
  {
   "cell_type": "markdown",
   "id": "02dcdd0f",
   "metadata": {},
   "source": [
    "<h3 style=\"color:green;\">2. TOPSIS Yönteminin Avantajları:</h3>\n"
   ]
  },
  {
   "cell_type": "markdown",
   "id": "b46f1cbd",
   "metadata": {},
   "source": [
    "<p style=\"color:black; font-size: 15px; font-weight: bold;\">Basit ve anlaşılması kolay bir yöntemdir.\n",
    "Çok kriterli karar verme problemlerini çözmek için etkilidir.\n",
    "Alternatifler arasında karşılaştırma yaparken, kriterlerin önem dereceleri ve karar vericinin tercihleri dikkate alınır.\n",
    "Yapılan sıralama sonuçları, karar vericilere net ve açık bir şekilde sunulur.</p>\n"
   ]
  },
  {
   "cell_type": "markdown",
   "id": "6c6b5816",
   "metadata": {},
   "source": [
    "<h3 style=\"color:green;\">3. AHP ile Farkları:\n",
    "</h3>\n"
   ]
  },
  {
   "cell_type": "markdown",
   "id": "8bd31880",
   "metadata": {},
   "source": [
    "<p style=\"color:black; font-size: 15px; font-weight: bold;\">AHP (Analytic Hierarchy Process), karar verme sürecinde karar alıcıların tercihlerini hiyerarşik bir yapı içinde belirlemek için kullanılırken, TOPSIS direkt olarak alternatifler arasında sıralama yapmak için kullanılır.\n",
    "AHP, karar vericinin tercihlerini ölçeklendirme ve ağırlıklandırma sürecinde kullanılırken, TOPSIS'te ağırlıklar genellikle önceden belirlenir veya analitik yöntemlerle belirlenir.\n",
    "AHP, kriterler arasında karar vericinin önceliklerini belirlerken, TOPSIS'te kriterlerin ağırlıkları karar verici tarafından belirlenir.</p>\n"
   ]
  },
  {
   "cell_type": "markdown",
   "id": "b97bec34",
   "metadata": {},
   "source": [
    "<h3 style=\"color:green;\">4. TOPSIS Sonuçlarının Yorumlanması:\n",
    "\n",
    "</h3>\n"
   ]
  },
  {
   "cell_type": "markdown",
   "id": "01d1ab0e",
   "metadata": {},
   "source": [
    "<p style=\"color:black; font-size: 15px; font-weight: bold;\">TOPSIS sonuçları, genellikle normalleştirilmiş sıralı puanlar veya uzaklık ölçüleri olarak sunulur.\n",
    "En küçük uzaklığa sahip olan alternatif, en iyi alternatif olarak kabul edilirken, en büyük uzaklığa sahip olan alternatif ise en kötü alternatif olarak kabul edilir.\n",
    "Karar vericiler, sıralama sonuçlarını değerlendirerek en iyi alternatifi seçebilirler. Bu sonuçlar, karar alıcıların tercihlerine, problem bağlamına ve analizde kullanılan veriye bağlı olarak yorumlanmalıdır.</p>\n"
   ]
  },
  {
   "cell_type": "markdown",
   "id": "59cb5f20",
   "metadata": {},
   "source": [
    "<h3 style=\"color:green;\">4. TOPSIS Adımları:\n",
    "\n",
    "</h3>\n"
   ]
  },
  {
   "cell_type": "markdown",
   "id": "42a90016",
   "metadata": {},
   "source": [
    "<h3 style=\"color:green;\">1) Normalizasyon:\n",
    "\n",
    "</h3>\n"
   ]
  },
  {
   "cell_type": "markdown",
   "id": "8cd9f3b1",
   "metadata": {},
   "source": [
    "<p style=\"color:black; font-size: 15px; font-weight: bold;\">Bu adımda, karar matrisindeki değerler normalize edilir. Normalizasyon, her bir kriterin önem derecesini eşitlemeye yardımcı olur. Genellikle, her bir değer kriterin diğer değerlerine göre orantısını koruyacak şekilde [0, 1] aralığına ölçeklenir. Bunu yapmanın birkaç yolu vardır, ancak en yaygın olarak kullanılan yöntem değerleri kriterin toplamıyla bölme işlemidir.</p>\n"
   ]
  },
  {
   "cell_type": "markdown",
   "id": "50448c01",
   "metadata": {},
   "source": [
    "<h3 style=\"color:green;\">2) Ağırlıklandırma:\n",
    "\n",
    "</h3>\n"
   ]
  },
  {
   "cell_type": "markdown",
   "id": "13725b0b",
   "metadata": {},
   "source": [
    "<p style=\"color:black; font-size: 15px; font-weight: bold;\">Karar verme sürecinde her bir kriterin önemi farklı olabilir. Ağırlıklandırma adımında, kriterlerin önem derecelerini yansıtan ağırlıklar atanır. Örneğin, bir tedarikçinin kalitesi fiyatından daha önemli olabilir. Bu ağırlıklar, karar verici tarafından belirlenir veya analitik yöntemlerle belirlenebilir.</p>\n"
   ]
  },
  {
   "cell_type": "markdown",
   "id": "ce653914",
   "metadata": {},
   "source": [
    "<h3 style=\"color:green;\">3) İdeal Çözüme Olan Uzaklığın Hesaplanması:\n",
    "\n",
    "</h3>\n"
   ]
  },
  {
   "cell_type": "markdown",
   "id": "43b5612c",
   "metadata": {},
   "source": [
    "<p style=\"color:black; font-size: 15px; font-weight: bold;\">Bu adımda, her alternatifin ideal en iyi ve ideal en kötü alternatiflere olan uzaklıkları hesaplanır. İdeal en iyi alternatif, her bir kriterde maksimum performansı gösteren alternatiftir. İdeal en kötü alternatif ise her bir kriterde minimum performansı gösteren alternatiftir. Alternatiflerin bu ideal noktalara olan uzaklıkları hesaplanarak, ideal en iyiye olan uzaklıkların ve ideal en kötüye olan uzaklıkların oranı belirlenir.</p>\n"
   ]
  },
  {
   "cell_type": "markdown",
   "id": "42489e01",
   "metadata": {},
   "source": [
    "<h3 style=\"color:green;\">4) Performans Sıralaması:\n",
    "\n",
    "</h3>\n"
   ]
  },
  {
   "cell_type": "markdown",
   "id": "a82d8818",
   "metadata": {},
   "source": [
    "<p style=\"color:black; font-size: 15px; font-weight: bold;\"> Bu adımda, her alternatifin ideal en iyi ve ideal en kötüye olan uzaklıklarına göre sıralanır. En küçük orana sahip alternatif en iyi alternatif olarak kabul edilir, en büyük orana sahip alternatif ise en kötü alternatif olarak kabul edilir.</p>\n"
   ]
  },
  {
   "cell_type": "markdown",
   "id": "28fc2776",
   "metadata": {},
   "source": [
    "<h1 style=\"color:green;\">ÖRNEK</h1>\n"
   ]
  },
  {
   "cell_type": "markdown",
   "id": "1fb795d6",
   "metadata": {},
   "source": [
    "<p style=\"color:black; font-size: 15px; font-weight: bold;\">Şirketiniz, ürünlerinizin üretiminde kullanılan hammadde ve malzemelerin tedarikinde en iyi tedarikçiyi seçmek istiyor. Ürün kalitesini artırmak, maliyetleri düşürmek ve teslim sürelerini optimize etmek için doğru tedarikçiyi seçmek kritik öneme sahip.Şirketinizin tedarikçi ağı oldukça geniş ve \"Tedarikçi A\" ile \"Tedarikçi T\" arasında 20 farklı seçenek bulunuyor. Üç ana kriter belirlendikten sonra (\"Kalite\", \"Fiyat\" ve \"Teslim Süresi\"), her bir tedarikçi için bu kriterlerin performansını gösteren bir karar matrisi oluşturuldu.</p>\n",
    "\n",
    "<p style=\"color:black; font-size: 15px; font-weight: bold;\">Örneğin, \"Tedarikçi A\" belirli bir malzeme için 1-10 arasında bir puan aldı: Kalite için 8, Fiyat için 5 ve Teslim Süresi için 7 gibi.</p>\n",
    "\n",
    "<p style=\"color:black; font-size: 15px; font-weight: bold;\">Bu veriler kullanılarakTOPSIS (Technique for Order of Preference by Similarity to Ideal Solution) yöntemi uygulanacak. TOPSIS, her bir tedarikçinin belirlenen kriterlere göre performansını değerlendirerek, hangi tedarikçinin en uygun seçenek olduğunu belirleyecek.\n",
    "</p>\n"
   ]
  },
  {
   "cell_type": "code",
   "execution_count": 1,
   "id": "c3645ca5",
   "metadata": {},
   "outputs": [],
   "source": [
    "import numpy as np\n",
    "import pandas as pd"
   ]
  },
  {
   "cell_type": "code",
   "execution_count": 2,
   "id": "60ed580f",
   "metadata": {},
   "outputs": [],
   "source": [
    "veriler = {\n",
    "    \"Tedarikçiler\": [\"Tedarikçi A\", \"Tedarikçi B\", \"Tedarikçi C\", \"Tedarikçi D\", \"Tedarikçi E\",\n",
    "           \"Tedarikçi F\", \"Tedarikçi G\", \"Tedarikçi H\", \"Tedarikçi I\", \"Tedarikçi J\",\n",
    "           \"Tedarikçi K\", \"Tedarikçi L\", \"Tedarikçi M\", \"Tedarikçi N\", \"Tedarikçi O\",\n",
    "           \"Tedarikçi P\", \"Tedarikçi Q\", \"Tedarikçi R\", \"Tedarikçi S\", \"Tedarikçi T\"],\n",
    "    \n",
    "    \"Kalite\": [8, 3, 3, 5, 5, 2, 5, 5, 1, 1, 3, 8, 6, 7, 5, 2, 1, 7, 9, 3],\n",
    "    \n",
    "    \"Fiyat\": [2, 2, 5, 8, 9, 9, 4, 3, 9, 5, 3, 9, 9, 2, 2, 5, 1, 3, 7, 7],\n",
    "    \n",
    "    \"Teslim Süresi\": [4, 8, 3, 4, 4, 8, 9, 8, 6, 6, 4, 1, 2, 6, 6, 6, 4, 1, 8, 5]\n",
    "}\n",
    "df = pd.DataFrame(veriler)\n",
    "df.set_index(\"Tedarikçiler\", inplace=True)"
   ]
  },
  {
   "cell_type": "code",
   "execution_count": 3,
   "id": "932a2dee",
   "metadata": {},
   "outputs": [
    {
     "data": {
      "text/html": [
       "<div>\n",
       "<style scoped>\n",
       "    .dataframe tbody tr th:only-of-type {\n",
       "        vertical-align: middle;\n",
       "    }\n",
       "\n",
       "    .dataframe tbody tr th {\n",
       "        vertical-align: top;\n",
       "    }\n",
       "\n",
       "    .dataframe thead th {\n",
       "        text-align: right;\n",
       "    }\n",
       "</style>\n",
       "<table border=\"1\" class=\"dataframe\">\n",
       "  <thead>\n",
       "    <tr style=\"text-align: right;\">\n",
       "      <th></th>\n",
       "      <th>Kalite</th>\n",
       "      <th>Fiyat</th>\n",
       "      <th>Teslim Süresi</th>\n",
       "    </tr>\n",
       "    <tr>\n",
       "      <th>Tedarikçiler</th>\n",
       "      <th></th>\n",
       "      <th></th>\n",
       "      <th></th>\n",
       "    </tr>\n",
       "  </thead>\n",
       "  <tbody>\n",
       "    <tr>\n",
       "      <th>Tedarikçi A</th>\n",
       "      <td>8</td>\n",
       "      <td>2</td>\n",
       "      <td>4</td>\n",
       "    </tr>\n",
       "    <tr>\n",
       "      <th>Tedarikçi B</th>\n",
       "      <td>3</td>\n",
       "      <td>2</td>\n",
       "      <td>8</td>\n",
       "    </tr>\n",
       "    <tr>\n",
       "      <th>Tedarikçi C</th>\n",
       "      <td>3</td>\n",
       "      <td>5</td>\n",
       "      <td>3</td>\n",
       "    </tr>\n",
       "    <tr>\n",
       "      <th>Tedarikçi D</th>\n",
       "      <td>5</td>\n",
       "      <td>8</td>\n",
       "      <td>4</td>\n",
       "    </tr>\n",
       "    <tr>\n",
       "      <th>Tedarikçi E</th>\n",
       "      <td>5</td>\n",
       "      <td>9</td>\n",
       "      <td>4</td>\n",
       "    </tr>\n",
       "    <tr>\n",
       "      <th>Tedarikçi F</th>\n",
       "      <td>2</td>\n",
       "      <td>9</td>\n",
       "      <td>8</td>\n",
       "    </tr>\n",
       "    <tr>\n",
       "      <th>Tedarikçi G</th>\n",
       "      <td>5</td>\n",
       "      <td>4</td>\n",
       "      <td>9</td>\n",
       "    </tr>\n",
       "    <tr>\n",
       "      <th>Tedarikçi H</th>\n",
       "      <td>5</td>\n",
       "      <td>3</td>\n",
       "      <td>8</td>\n",
       "    </tr>\n",
       "    <tr>\n",
       "      <th>Tedarikçi I</th>\n",
       "      <td>1</td>\n",
       "      <td>9</td>\n",
       "      <td>6</td>\n",
       "    </tr>\n",
       "    <tr>\n",
       "      <th>Tedarikçi J</th>\n",
       "      <td>1</td>\n",
       "      <td>5</td>\n",
       "      <td>6</td>\n",
       "    </tr>\n",
       "    <tr>\n",
       "      <th>Tedarikçi K</th>\n",
       "      <td>3</td>\n",
       "      <td>3</td>\n",
       "      <td>4</td>\n",
       "    </tr>\n",
       "    <tr>\n",
       "      <th>Tedarikçi L</th>\n",
       "      <td>8</td>\n",
       "      <td>9</td>\n",
       "      <td>1</td>\n",
       "    </tr>\n",
       "    <tr>\n",
       "      <th>Tedarikçi M</th>\n",
       "      <td>6</td>\n",
       "      <td>9</td>\n",
       "      <td>2</td>\n",
       "    </tr>\n",
       "    <tr>\n",
       "      <th>Tedarikçi N</th>\n",
       "      <td>7</td>\n",
       "      <td>2</td>\n",
       "      <td>6</td>\n",
       "    </tr>\n",
       "    <tr>\n",
       "      <th>Tedarikçi O</th>\n",
       "      <td>5</td>\n",
       "      <td>2</td>\n",
       "      <td>6</td>\n",
       "    </tr>\n",
       "    <tr>\n",
       "      <th>Tedarikçi P</th>\n",
       "      <td>2</td>\n",
       "      <td>5</td>\n",
       "      <td>6</td>\n",
       "    </tr>\n",
       "    <tr>\n",
       "      <th>Tedarikçi Q</th>\n",
       "      <td>1</td>\n",
       "      <td>1</td>\n",
       "      <td>4</td>\n",
       "    </tr>\n",
       "    <tr>\n",
       "      <th>Tedarikçi R</th>\n",
       "      <td>7</td>\n",
       "      <td>3</td>\n",
       "      <td>1</td>\n",
       "    </tr>\n",
       "    <tr>\n",
       "      <th>Tedarikçi S</th>\n",
       "      <td>9</td>\n",
       "      <td>7</td>\n",
       "      <td>8</td>\n",
       "    </tr>\n",
       "    <tr>\n",
       "      <th>Tedarikçi T</th>\n",
       "      <td>3</td>\n",
       "      <td>7</td>\n",
       "      <td>5</td>\n",
       "    </tr>\n",
       "  </tbody>\n",
       "</table>\n",
       "</div>"
      ],
      "text/plain": [
       "              Kalite  Fiyat  Teslim Süresi\n",
       "Tedarikçiler                              \n",
       "Tedarikçi A        8      2              4\n",
       "Tedarikçi B        3      2              8\n",
       "Tedarikçi C        3      5              3\n",
       "Tedarikçi D        5      8              4\n",
       "Tedarikçi E        5      9              4\n",
       "Tedarikçi F        2      9              8\n",
       "Tedarikçi G        5      4              9\n",
       "Tedarikçi H        5      3              8\n",
       "Tedarikçi I        1      9              6\n",
       "Tedarikçi J        1      5              6\n",
       "Tedarikçi K        3      3              4\n",
       "Tedarikçi L        8      9              1\n",
       "Tedarikçi M        6      9              2\n",
       "Tedarikçi N        7      2              6\n",
       "Tedarikçi O        5      2              6\n",
       "Tedarikçi P        2      5              6\n",
       "Tedarikçi Q        1      1              4\n",
       "Tedarikçi R        7      3              1\n",
       "Tedarikçi S        9      7              8\n",
       "Tedarikçi T        3      7              5"
      ]
     },
     "execution_count": 3,
     "metadata": {},
     "output_type": "execute_result"
    }
   ],
   "source": [
    "df"
   ]
  },
  {
   "cell_type": "code",
   "execution_count": 4,
   "id": "18afa571",
   "metadata": {},
   "outputs": [
    {
     "name": "stdout",
     "output_type": "stream",
     "text": [
      "Tedarikçi Sıralaması (En İyiden En Kötüye):\n",
      " Tedarikçiler\n",
      "Tedarikçi Q    0.832963\n",
      "Tedarikçi K    0.716482\n",
      "Tedarikçi C    0.685428\n",
      "Tedarikçi J    0.670911\n",
      "Tedarikçi P    0.639490\n",
      "Tedarikçi B    0.593006\n",
      "Tedarikçi I    0.573111\n",
      "Tedarikçi T    0.567323\n",
      "Tedarikçi O    0.546403\n",
      "Tedarikçi R    0.530218\n",
      "Tedarikçi F    0.499397\n",
      "Tedarikçi H    0.469627\n",
      "Tedarikçi D    0.453597\n",
      "Tedarikçi A    0.438341\n",
      "Tedarikçi M    0.437141\n",
      "Tedarikçi N    0.434956\n",
      "Tedarikçi E    0.434122\n",
      "Tedarikçi G    0.423368\n",
      "Tedarikçi L    0.387194\n",
      "Tedarikçi S    0.126089\n",
      "dtype: float64\n"
     ]
    }
   ],
   "source": [
    "normalized_df = df.div(np.sqrt((df ** 2).sum(axis=0)), axis=1)\n",
    "\n",
    "# 2. Ağırlıklandırma (örneğin: Kalite için 0.4, Fiyat için 0.3, Teslim Süresi için 0.3)\n",
    "weights = [0.4, 0.3, 0.3]\n",
    "weighted_normalized_df = normalized_df * weights\n",
    "\n",
    "# 3. İdeal çözüme olan uzaklığın hesaplanması\n",
    "ideal_best = weighted_normalized_df.max()\n",
    "ideal_worst = weighted_normalized_df.min()\n",
    "\n",
    "# 4. Performans sıralaması\n",
    "def euclidean_distance(row, ideal_point):\n",
    "    return np.sqrt(((row - ideal_point) ** 2).sum())\n",
    "\n",
    "distances_to_best = weighted_normalized_df.apply(euclidean_distance, axis=1, args=(ideal_best,))\n",
    "distances_to_worst = weighted_normalized_df.apply(euclidean_distance, axis=1, args=(ideal_worst,))\n",
    "\n",
    "normalized_distances_to_best = distances_to_best / (distances_to_best + distances_to_worst)\n",
    "\n",
    "ranking = normalized_distances_to_best.sort_values(ascending=False)\n",
    "\n",
    "print(\"Tedarikçi Sıralaması (En İyiden En Kötüye):\\n\", ranking)"
   ]
  },
  {
   "cell_type": "markdown",
   "id": "c06b4b76",
   "metadata": {},
   "source": [
    "<p style=\"color:black; font-size: 15px; font-weight: bold;\">Bu sıralama, TOPSIS yöntemi kullanılarak yapılmış ve her bir tedarikçinin en iyi alternatiften ne kadar uzak olduğunu göstermektedir.</p>"
   ]
  },
  {
   "cell_type": "markdown",
   "id": "0bbabe94",
   "metadata": {},
   "source": [
    "<h5 style=\"color:green;\">Tedarikçi Q:</h5>\n"
   ]
  },
  {
   "cell_type": "markdown",
   "id": "5fe625f1",
   "metadata": {},
   "source": [
    "<p style=\"color:black; font-size: 15px; font-weight: bold;\">Diğer tedarikçilere kıyasla en yüksek TOPSIS skoruna sahip olan bu tedarikçi, ideal en iyi çözüme en yakın olanıdır.</p>"
   ]
  },
  {
   "cell_type": "markdown",
   "id": "27769cec",
   "metadata": {},
   "source": [
    "<h5 style=\"color:green;\">Tedarikçi K, C ve J:</h5>\n"
   ]
  },
  {
   "cell_type": "markdown",
   "id": "552e491e",
   "metadata": {},
   "source": [
    "<p style=\"color:black; font-size: 15px; font-weight: bold;\">En iyi tedarikçi olan Q'ya yakın skorlara sahip bu tedarikçiler, genel olarak iyi performans göstermektedirler.</p>"
   ]
  },
  {
   "cell_type": "markdown",
   "id": "a773f280",
   "metadata": {},
   "source": [
    "<h5 style=\"color:green;\">Tedarikçi P, B ve I:</h5>\n"
   ]
  },
  {
   "cell_type": "markdown",
   "id": "9ee6ef43",
   "metadata": {},
   "source": [
    "<p style=\"color:black; font-size: 15px; font-weight: bold;\">Ortalama seviyede performans sergileyen bu tedarikçiler, iyileştirme fırsatları olabilir.\n",
    "Tedarikçi S: En düşük TOPSIS skoruna sahip olan bu tedarikçi, ideal en kötü çözüme daha yakın olanıdır ve performansı diğerlerine göre daha zayıf görünmektedir.</p>"
   ]
  },
  {
   "cell_type": "markdown",
   "id": "4c4bb5b6",
   "metadata": {},
   "source": [
    "<h5 style=\"color:green;\">Tedarikçi S:</h5>\n"
   ]
  },
  {
   "cell_type": "markdown",
   "id": "76fd302c",
   "metadata": {},
   "source": [
    "<p style=\"color:black; font-size: 15px; font-weight: bold;\">En düşük TOPSIS skoruna sahip olan bu tedarikçi, ideal en kötü çözüme daha yakın olanıdır ve performansı diğerlerine göre daha zayıf görünmektedir.</p>"
   ]
  },
  {
   "cell_type": "markdown",
   "id": "e5bd8cd0",
   "metadata": {},
   "source": [
    "<p style=\"color:black; font-size: 15px; font-weight: bold;\">Bu sıralama, tedarikçilerin performanslarını değerlendirmek ve karar verme sürecinde en uygun tedarikçiyi seçmek için kullanılabilir. Ancak, sonuçları yorumlarken, kullanılan kriterlerin ve ağırlıkların önemini ve karar vericiye özgü tercihleri dikkate almak önemlidir.</p>"
   ]
  }
 ],
 "metadata": {
  "kernelspec": {
   "display_name": "Python 3 (ipykernel)",
   "language": "python",
   "name": "python3"
  },
  "language_info": {
   "codemirror_mode": {
    "name": "ipython",
    "version": 3
   },
   "file_extension": ".py",
   "mimetype": "text/x-python",
   "name": "python",
   "nbconvert_exporter": "python",
   "pygments_lexer": "ipython3",
   "version": "3.11.5"
  }
 },
 "nbformat": 4,
 "nbformat_minor": 5
}
