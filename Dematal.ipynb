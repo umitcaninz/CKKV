{
 "cells": [
  {
   "cell_type": "markdown",
   "id": "f9eea3da",
   "metadata": {},
   "source": [
    "<h1 style=\"color:purple;\">Dematel Yöntemi</h1>\n"
   ]
  },
  {
   "cell_type": "markdown",
   "id": "61a0c677",
   "metadata": {},
   "source": [
    "<p style=\"color:black; font-size: 15px; font-weight: bold;\">Dematel yöntemi, karmaşık sistemlerdeki etkileşimlerin ve geri bildirimlerin analizinde kullanılan bir yöntemdir. Bu yöntem, bir sistemin unsurları arasındaki nedensellik ilişkilerini ve bunların etkilerini belirlemek için kullanılır.</p>\n"
   ]
  },
  {
   "cell_type": "markdown",
   "id": "7257eacb",
   "metadata": {},
   "source": [
    "<h3 style=\"color:purple;\">Dematel Yöntemi</h3>\n",
    "<p style=\"color:black; font-size: 15px; font-weight: bold;\">- Stratejik planlama</p>\n",
    "<p style=\"color:black; font-size: 15px; font-weight: bold;\">- Risk analizi</p>\n",
    "<p style=\"color:black; font-size: 15px; font-weight: bold;\">- Karar verme</p>\n",
    "<p style=\"color:black; font-size: 15px; font-weight: bold;\">- Problem çözme</p>\n",
    "<p style=\"color:black; font-size: 15px; font-weight: bold;\">- Sistem tasarımı</p>"
   ]
  },
  {
   "cell_type": "markdown",
   "id": "28935466",
   "metadata": {},
   "source": [
    "<h3 style=\"color:purple;\">Dematel Yönteminin Neden Kullanılır ?</h3>\n",
    "<p style=\"color:black; font-size: 15px; font-weight: bold;\">- Karmaşık sistemleri analiz etmek için kullanışlı bir araçtır.</p>\n",
    "<p style=\"color:black; font-size: 15px; font-weight: bold;\">- Bir sistemin unsurları arasındaki nedensellik ilişkilerini ve bunların etkilerini belirlemeye yardımcı olur.</p>\n",
    "<p style=\"color:black; font-size: 15px; font-weight: bold;\">- Görselleştirme yoluyla sistemin daha iyi anlaşılmasını sağlar.</p>\n"
   ]
  },
  {
   "cell_type": "markdown",
   "id": "4fd20189",
   "metadata": {},
   "source": [
    "<h3 style=\"color:purple;\">Dematel Yönteminin Avantajları:</h3>\n",
    "<p style=\"color:black; font-size: 15px; font-weight: bold;\">- Kolay uygulanabilir.</p>\n",
    "<p style=\"color:black; font-size: 15px; font-weight: bold;\"> - Görsel olarak kolay anlaşılır.</p>\n",
    "<p style=\"color:black; font-size: 15px; font-weight: bold;\">- Farklı disiplinlerde kullanılabilir.</p>\n"
   ]
  },
  {
   "cell_type": "markdown",
   "id": "51c58a45",
   "metadata": {},
   "source": [
    "<h3 style=\"color:purple;\">Dematel Yönteminin Dezavantajları:</h3>\n",
    "<p style=\"color:black; font-size: 15px; font-weight: bold;\">- Karşılaştırma matrisindeki değerlerin öznel olması nedeniyle hatalara açık olabilir.</p>\n",
    "<p style=\"color:black; font-size: 15px; font-weight: bold;\">- Büyük sistemler için karmaşık ve zaman alıcı olabilir.</p>"
   ]
  },
  {
   "cell_type": "markdown",
   "id": "445f318e",
   "metadata": {},
   "source": [
    "<h2 style=\"color:purple;\">Dematel Yönteminin Adımları:</h2>\n",
    "<h3 style=\"color:purple;\">Tanımlama:</h3>\n",
    "<p style=\"color:black; font-size: 15px; font-weight: bold;\">Dematel yönteminin ilk adımı, analiz edilecek sistemi ve sistemin unsurlarını tanımlamaktır. Bu unsurlar, departmanlar, kişiler, faaliyetler veya sistemin diğer bileşenleri olabilir.</p>\n",
    "<h3 style=\"color:purple;\"> Karşılaştırma Matrisi Oluşturma::</h3>\n",
    "<p style=\"color:black; font-size: 15px; font-weight: bold;\">Sistemin unsurları arasındaki etkileşimleri ve geri bildirimleri değerlendirmek için bir karşılaştırma matrisi oluşturulur. Bu matriste, her bir unsur diğer her bir unsurla karşılaştırılır ve etkileşiminin derecesi bir sayısal değerle gösterilir.</p>\n",
    "<h3 style=\"color:purple;\"> Doğrudan ve Dolaylı Etki Matrisleri:</h3>\n",
    "<p style=\"color:black; font-size: 15px; font-weight: bold;\">Karşılaştırma matrisinden doğrudan ve dolaylı etki matrisleri hesaplanır. Doğrudan etki matrisi, bir unsurun diğer unsurlar üzerindeki doğrudan etkisini gösterir. Dolaylı etki matrisi ise bir unsurun diğer unsurlar üzerindeki dolaylı etkisini gösterir.</p>\n",
    "<h3 style=\"color:purple;\"> Toplam Etki Matrisi:</h3>\n",
    "<p style=\"color:black; font-size: 15px; font-weight: bold;\">Toplam etki matrisi, bir unsurun diğer unsurlar üzerindeki toplam etkisini (doğrudan ve dolaylı etkilerin toplamı) gösterir.</p>\n",
    "<h3 style=\"color:purple;\"> Görselleştirme:</h3>\n",
    "<p style=\"color:black; font-size: 15px; font-weight: bold;\"> Dematel yönteminin sonuçları, bir ağ diyagramı kullanılarak görselleştirilebilir. Bu diyagram, sistemin unsurları arasındaki nedensellik ilişkilerini ve bunların etkilerini gösterir.</p>"
   ]
  },
  {
   "cell_type": "markdown",
   "id": "7332b92b",
   "metadata": {},
   "source": [
    "<h2 style=\"color:purple;\"> Dematel Yönteminin Verdiği Sonuçlar::</h2>\n",
    "<p style=\"color:black; font-size: 15px; font-weight: bold;\"> - Doğrudan etki matrisi: Bir unsurun diğer unsurlar üzerindeki doğrudan etkisini gösterir.</p>\n",
    "<p style=\"color:black; font-size: 15px; font-weight: bold;\"> - Dolaylı etki matrisi: Bir unsurun diğer unsurlar üzerindeki dolaylı etkisini gösterir.</p>\n",
    "<p style=\"color:black; font-size: 15px; font-weight: bold;\"> - Toplam etki matrisi: Bir unsurun diğer unsurlar üzerindeki toplam etkisini (doğrudan ve dolaylı etkilerin toplamı) gösterir.</p>\n",
    "<p style=\"color:black; font-size: 15px; font-weight: bold;\"> - Ağ diyagramı: Dematel yönteminin sonuçlarını görselleştiren bir diyagramdır.</p>"
   ]
  },
  {
   "cell_type": "markdown",
   "id": "2b05d907",
   "metadata": {},
   "source": [
    "<h2 style=\"color:purple;\">Dematel Yönteminin Sonuçlarının Yorumlanması:</h2>\n",
    "<p style=\"color:black; font-size: 15px; font-weight: bold;\"> - Toplam etki matrisi: Her bir unsurun diğer unsurlar üzerindeki net etkisini (etki - etkilenen) gösterir.</p>\n",
    "<p style=\"color:black; font-size: 15px; font-weight: bold;\">- Ağ diyagramı: Sistemin unsurları arasındaki nedensellik ilişkilerini ve bunların yönlerini gösterir.</p>"
   ]
  },
  {
   "cell_type": "markdown",
   "id": "9e11ed5e",
   "metadata": {},
   "source": [
    "<h2 style=\"color:purple;\">Dematel Yönteminin Sonuçlarının Kullanımı:</h2>\n",
    "<p style=\"color:black; font-size: 15px; font-weight: bold;\"> - Bir sistemin unsurları arasındaki nedensellik ilişkilerini ve bunların etkilerini daha iyi anlamaya yardımcı olur.</p>\n",
    "<p style=\"color:black; font-size: 15px; font-weight: bold;\">- Sistemin hangi unsurlarına odaklanılması gerektiğini belirlemeye yardımcı olur.</p>\n",
    "<p style=\"color:black; font-size: 15px; font-weight: bold;\">- Sistemin performansını artırmak için stratejiler geliştirmeye yardımcı olur.</p>"
   ]
  },
  {
   "cell_type": "markdown",
   "id": "1f26c4c7",
   "metadata": {},
   "source": [
    "<h2 style=\"color:purple;\">Örnek</h2>\n",
    "<p style=\"color:black; font-size: 15px; font-weight: bold;\"> Bir şirketin 5 departmanı olduğunu varsayalım:</p>\n",
    "<p style=\"color:black; font-size: 15px; font-weight: bold;\">Pazarlama: Ürünlerin ve hizmetlerin potansiyel müşterilere tanıtılması ve satılması.</p>\n",
    "<p style=\"color:black; font-size: 15px; font-weight: bold;\">Satış: Potansiyel müşterilerle iletişim kurmak ve satışları tamamlamak.</p>\n",
    "<p style=\"color:black; font-size: 15px; font-weight: bold;\">Üretim: Ürünlerin tasarlanması, geliştirilmesi ve üretilmesi.</p>\n",
    "<p style=\"color:black; font-size: 15px; font-weight: bold;\">Ar-Ge: Yeni ürünler ve hizmetler için araştırma ve geliştirme çalışmaları yapmak.</p>\n",
    "<p style=\"color:black; font-size: 15px; font-weight: bold;\">Finans: Şirketin finansal kaynaklarını yönetmek.</p>"
   ]
  },
  {
   "cell_type": "code",
   "execution_count": 1,
   "id": "b9859d6d",
   "metadata": {},
   "outputs": [],
   "source": [
    "import numpy as np\n",
    "import pandas as pd"
   ]
  },
  {
   "cell_type": "code",
   "execution_count": 2,
   "id": "9f630512",
   "metadata": {},
   "outputs": [
    {
     "data": {
      "text/html": [
       "<div>\n",
       "<style scoped>\n",
       "    .dataframe tbody tr th:only-of-type {\n",
       "        vertical-align: middle;\n",
       "    }\n",
       "\n",
       "    .dataframe tbody tr th {\n",
       "        vertical-align: top;\n",
       "    }\n",
       "\n",
       "    .dataframe thead th {\n",
       "        text-align: right;\n",
       "    }\n",
       "</style>\n",
       "<table border=\"1\" class=\"dataframe\">\n",
       "  <thead>\n",
       "    <tr style=\"text-align: right;\">\n",
       "      <th></th>\n",
       "      <th>Pazarlama</th>\n",
       "      <th>Satış</th>\n",
       "      <th>Üretim</th>\n",
       "      <th>Ar-Ge</th>\n",
       "      <th>Finans</th>\n",
       "    </tr>\n",
       "  </thead>\n",
       "  <tbody>\n",
       "    <tr>\n",
       "      <th>Pazarlama</th>\n",
       "      <td>0</td>\n",
       "      <td>3</td>\n",
       "      <td>2</td>\n",
       "      <td>4</td>\n",
       "      <td>1</td>\n",
       "    </tr>\n",
       "    <tr>\n",
       "      <th>Satış</th>\n",
       "      <td>2</td>\n",
       "      <td>0</td>\n",
       "      <td>3</td>\n",
       "      <td>4</td>\n",
       "      <td>2</td>\n",
       "    </tr>\n",
       "    <tr>\n",
       "      <th>Üretim</th>\n",
       "      <td>1</td>\n",
       "      <td>2</td>\n",
       "      <td>0</td>\n",
       "      <td>3</td>\n",
       "      <td>2</td>\n",
       "    </tr>\n",
       "    <tr>\n",
       "      <th>Ar-Ge</th>\n",
       "      <td>4</td>\n",
       "      <td>3</td>\n",
       "      <td>2</td>\n",
       "      <td>0</td>\n",
       "      <td>1</td>\n",
       "    </tr>\n",
       "    <tr>\n",
       "      <th>Finans</th>\n",
       "      <td>3</td>\n",
       "      <td>1</td>\n",
       "      <td>2</td>\n",
       "      <td>4</td>\n",
       "      <td>0</td>\n",
       "    </tr>\n",
       "  </tbody>\n",
       "</table>\n",
       "</div>"
      ],
      "text/plain": [
       "           Pazarlama  Satış  Üretim  Ar-Ge  Finans\n",
       "Pazarlama          0      3       2      4       1\n",
       "Satış              2      0       3      4       2\n",
       "Üretim             1      2       0      3       2\n",
       "Ar-Ge              4      3       2      0       1\n",
       "Finans             3      1       2      4       0"
      ]
     },
     "execution_count": 2,
     "metadata": {},
     "output_type": "execute_result"
    }
   ],
   "source": [
    "data = np.array([\n",
    "    [0, 3, 2, 4, 1],\n",
    "    [2, 0, 3, 4, 2],\n",
    "    [1, 2, 0, 3, 2],\n",
    "    [4, 3, 2, 0, 1],\n",
    "    [3, 1, 2, 4, 0]\n",
    "])\n",
    "columns = [\"Pazarlama\", \"Satış\", \"Üretim\", \"Ar-Ge\", \"Finans\"]\n",
    "index = [\"Pazarlama\", \"Satış\", \"Üretim\", \"Ar-Ge\", \"Finans\"]\n",
    "df = pd.DataFrame(data, columns=columns, index=index)\n",
    "df"
   ]
  },
  {
   "cell_type": "code",
   "execution_count": 3,
   "id": "8e36fff0",
   "metadata": {},
   "outputs": [
    {
     "data": {
      "text/html": [
       "<div>\n",
       "<style scoped>\n",
       "    .dataframe tbody tr th:only-of-type {\n",
       "        vertical-align: middle;\n",
       "    }\n",
       "\n",
       "    .dataframe tbody tr th {\n",
       "        vertical-align: top;\n",
       "    }\n",
       "\n",
       "    .dataframe thead th {\n",
       "        text-align: right;\n",
       "    }\n",
       "</style>\n",
       "<table border=\"1\" class=\"dataframe\">\n",
       "  <thead>\n",
       "    <tr style=\"text-align: right;\">\n",
       "      <th></th>\n",
       "      <th>Pazarlama</th>\n",
       "      <th>Satış</th>\n",
       "      <th>Üretim</th>\n",
       "      <th>Ar-Ge</th>\n",
       "      <th>Finans</th>\n",
       "    </tr>\n",
       "  </thead>\n",
       "  <tbody>\n",
       "    <tr>\n",
       "      <th>Pazarlama</th>\n",
       "      <td>0</td>\n",
       "      <td>3</td>\n",
       "      <td>2</td>\n",
       "      <td>4</td>\n",
       "      <td>1</td>\n",
       "    </tr>\n",
       "    <tr>\n",
       "      <th>Satış</th>\n",
       "      <td>2</td>\n",
       "      <td>0</td>\n",
       "      <td>3</td>\n",
       "      <td>4</td>\n",
       "      <td>2</td>\n",
       "    </tr>\n",
       "    <tr>\n",
       "      <th>Üretim</th>\n",
       "      <td>1</td>\n",
       "      <td>2</td>\n",
       "      <td>0</td>\n",
       "      <td>3</td>\n",
       "      <td>2</td>\n",
       "    </tr>\n",
       "    <tr>\n",
       "      <th>Ar-Ge</th>\n",
       "      <td>4</td>\n",
       "      <td>3</td>\n",
       "      <td>2</td>\n",
       "      <td>0</td>\n",
       "      <td>1</td>\n",
       "    </tr>\n",
       "    <tr>\n",
       "      <th>Finans</th>\n",
       "      <td>3</td>\n",
       "      <td>1</td>\n",
       "      <td>2</td>\n",
       "      <td>4</td>\n",
       "      <td>0</td>\n",
       "    </tr>\n",
       "  </tbody>\n",
       "</table>\n",
       "</div>"
      ],
      "text/plain": [
       "           Pazarlama  Satış  Üretim  Ar-Ge  Finans\n",
       "Pazarlama          0      3       2      4       1\n",
       "Satış              2      0       3      4       2\n",
       "Üretim             1      2       0      3       2\n",
       "Ar-Ge              4      3       2      0       1\n",
       "Finans             3      1       2      4       0"
      ]
     },
     "execution_count": 3,
     "metadata": {},
     "output_type": "execute_result"
    }
   ],
   "source": [
    "df"
   ]
  },
  {
   "cell_type": "code",
   "execution_count": 4,
   "id": "b70f57f0",
   "metadata": {},
   "outputs": [],
   "source": [
    "D = np.zeros_like(data, dtype=float)\n",
    "for i in range(data.shape[0]):\n",
    "    for j in range(data.shape[1]):\n",
    "        if i != j:\n",
    "            D[i, j] = data[i, j] - data[j, i]\n",
    "\n",
    "positives = np.maximum(D, 0)\n",
    "negatives = np.maximum(-D, 0)\n",
    "total_positive = np.sum(positives, axis=1)\n",
    "total_negative = np.sum(negatives, axis=1)\n",
    "D_positive = total_positive / (total_positive + total_negative)\n",
    "D_negative = total_negative / (total_positive + total_negative)"
   ]
  },
  {
   "cell_type": "code",
   "execution_count": 5,
   "id": "cee91618",
   "metadata": {
    "scrolled": true
   },
   "outputs": [
    {
     "name": "stdout",
     "output_type": "stream",
     "text": [
      "Departmanlar arasındaki Dematel Pozitif Endeksleri:\n",
      "Pazarlama: 0.5\n",
      "Satış: 0.75\n",
      "Üretim: 0.3333333333333333\n",
      "Ar-Ge: 0.0\n",
      "Finans: 0.8333333333333334\n"
     ]
    }
   ],
   "source": [
    "print(\"Departmanlar arasındaki Dematel Pozitif Endeksleri:\")\n",
    "for i, department in enumerate([\"Pazarlama\", \"Satış\", \"Üretim\", \"Ar-Ge\", \"Finans\"]):\n",
    "    print(f\"{department}: {D_positive[i]}\")"
   ]
  },
  {
   "cell_type": "markdown",
   "id": "1bd49743",
   "metadata": {},
   "source": [
    "<h4 style=\"color:purple;\"> Pazarlama</h4>\n",
    "<p style=\"color:black; font-size: 15px; font-weight: bold;\"> Diğer departmanlarla olan olumlu etkileşimi orta düzeydedir (0.5). Bu, pazarlama departmanının diğer departmanlarla ortalama düzeyde işbirliği yapabildiğini gösterir.</p>\n",
    "<h4 style=\"color:purple;\"> Satış</h4>\n",
    "<p style=\"color:black; font-size: 15px; font-weight: bold;\">Satış departmanı diğer departmanlarla daha güçlü bir olumlu etkileşime sahiptir (0.75). Bu, satış departmanının diğer departmanlarla daha sıkı bir işbirliği içinde olduğunu ve daha fazla sinerji yaratabileceğini gösterir.</p>\n",
    "<h4 style=\"color:purple;\"> Üretim</h4>\n",
    "<p style=\"color:black; font-size: 15px; font-weight: bold;\">Üretim departmanı, diğer departmanlarla olan olumlu etkileşimi düşük bir seviyede tutmaktadır (0.333). Bu, üretim departmanının diğer departmanlarla daha az işbirliği içinde olduğunu ve daha az etkileşimde bulunduğunu gösterir.</p>\n",
    "<h4 style=\"color:purple;\"> Ar-Ge </h4>\n",
    "<p style=\"color:black; font-size: 15px; font-weight: bold;\">Ar-Ge departmanı, diğer departmanlarla herhangi bir olumlu etkileşime sahip değildir (0.0). Bu, Ar-Ge departmanının diğer departmanlarla işbirliği yapmadığını veya etkileşimde bulunmadığını gösterir.</p>\n",
    "<h4 style=\"color:purple;\">Finans </h4>\n",
    "<p style=\"color:black; font-size: 15px; font-weight: bold;\"> Finans departmanı, diğer departmanlarla en güçlü olumlu etkileşime sahip olan departmandır (0.833). Bu, finans departmanının diğer departmanlarla sıkı bir işbirliği içinde olduğunu ve büyük ölçüde sinerji yarattığını gösterir.</p>"
   ]
  },
  {
   "cell_type": "code",
   "execution_count": 6,
   "id": "61d2a4c2",
   "metadata": {
    "scrolled": false
   },
   "outputs": [
    {
     "name": "stdout",
     "output_type": "stream",
     "text": [
      "\n",
      "Departmanlar arasındaki Dematel Negatif Endeksleri:\n",
      "Pazarlama: 0.5\n",
      "Satış: 0.25\n",
      "Üretim: 0.6666666666666666\n",
      "Ar-Ge: 1.0\n",
      "Finans: 0.16666666666666666\n"
     ]
    }
   ],
   "source": [
    "print(\"\\nDepartmanlar arasındaki Dematel Negatif Endeksleri:\")\n",
    "for i, department in enumerate([\"Pazarlama\", \"Satış\", \"Üretim\", \"Ar-Ge\", \"Finans\"]):\n",
    "    print(f\"{department}: {D_negative[i]}\")"
   ]
  },
  {
   "cell_type": "markdown",
   "id": "7add5ce5",
   "metadata": {},
   "source": [
    "<h4 style=\"color:purple;\"> Pazarlama:</h4>\n",
    "<p style=\"color:black; font-size: 15px; font-weight: bold;\"> Pazarlama departmanı diğer departmanlarla orta düzeyde olumsuz etkileşime sahiptir (0.5). Bu, pazarlama departmanının diğer departmanlarla bazı olumsuz etkileşimler yaşadığını ancak genel olarak uyumlu olduğunu gösterir.</p>\n",
    "<h4 style=\"color:purple;\"> Satış</h4>\n",
    "<p style=\"color:black; font-size: 15px; font-weight: bold;\">Satış departmanı diğer departmanlarla daha az olumsuz etkileşime sahiptir (0.25). Bu, satış departmanının diğer departmanlarla daha az sorun yaşadığını ve uyumlu bir şekilde çalıştığını gösterir.</p>\n",
    "<h4 style=\"color:purple;\"> Üretim</h4>\n",
    "<p style=\"color:black; font-size: 15px; font-weight: bold;\"> Üretim departmanı diğer departmanlarla daha yüksek bir olumsuz etkileşime sahiptir (0.667). Bu, üretim departmanının diğer departmanlarla daha fazla sorun yaşadığını ve uyumlu olmayabileceğini gösterir.</p>\n",
    "<h4 style=\"color:purple;\"> Ar-Ge </h4>\n",
    "<p style=\"color:black; font-size: 15px; font-weight: bold;\">Ar-Ge departmanı diğer departmanlarla tamamen olumsuz etkileşime sahiptir (1.0). Bu, Ar-Ge departmanının diğer departmanlarla uyumsuz olduğunu ve çatışma yaşadığını gösterir.</p>\n",
    "<h4 style=\"color:purple;\">Finans </h4>\n",
    "<p style=\"color:black; font-size: 15px; font-weight: bold;\">Finans departmanı diğer departmanlarla en az olumsuz etkileşime sahip olan departmandır (0.167). Bu, finans departmanının diğer departmanlarla uyumlu olduğunu ve genel olarak az sorun yaşadığını gösterir.</p>"
   ]
  }
 ],
 "metadata": {
  "kernelspec": {
   "display_name": "Python 3 (ipykernel)",
   "language": "python",
   "name": "python3"
  },
  "language_info": {
   "codemirror_mode": {
    "name": "ipython",
    "version": 3
   },
   "file_extension": ".py",
   "mimetype": "text/x-python",
   "name": "python",
   "nbconvert_exporter": "python",
   "pygments_lexer": "ipython3",
   "version": "3.11.5"
  }
 },
 "nbformat": 4,
 "nbformat_minor": 5
}
