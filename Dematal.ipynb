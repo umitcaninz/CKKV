{
 "cells": [
  {
   "cell_type": "markdown",
   "id": "3ebbdb4c",
   "metadata": {},
   "source": [
    "### Dematel Yöntemi Nedir?\n",
    "##### - Dematel yöntemi, karmaşık sistemlerdeki etkileşimlerin ve geri bildirimlerin analizinde kullanılan bir yöntemdir. Bu yöntem, bir sistemin unsurları arasındaki nedensellik ilişkilerini ve bunların etkilerini belirlemek için kullanılır.\n",
    "\n",
    "### Dematel Yönteminin Kullanım Alanları:\n",
    "\n",
    "##### - Stratejik planlama\n",
    "##### - Risk analizi\n",
    "##### - Karar verme\n",
    "##### - Problem çözme\n",
    "##### - Sistem tasarımı\n",
    "\n",
    "#### Dematel Yönteminin Neden Kullanılır ? :\n",
    "\n",
    "##### - Karmaşık sistemleri analiz etmek için kullanışlı bir araçtır.\n",
    "##### - Bir sistemin unsurları arasındaki nedensellik ilişkilerini ve bunların etkilerini belirlemeye yardımcı olur.\n",
    "##### - Görselleştirme yoluyla sistemin daha iyi anlaşılmasını sağlar.\n",
    "\n",
    "#### Dematel Yönteminin Avantajları:\n",
    "\n",
    "##### - Kolay uygulanabilir.\n",
    "##### - Görsel olarak kolay anlaşılır.\n",
    "##### - Farklı disiplinlerde kullanılabilir.\n",
    "\n",
    "#### Dematel Yönteminin Dezavantajları:\n",
    "\n",
    "##### - Karşılaştırma matrisindeki değerlerin öznel olması nedeniyle hatalara açık olabilir.\n",
    "##### - Büyük sistemler için karmaşık ve zaman alıcı olabilir.\n",
    "\n",
    "#### Dematel Yönteminin Adımları:\n",
    "\n",
    "##### - Tanımlama: Dematel yönteminin ilk adımı, analiz edilecek sistemi ve sistemin unsurlarını tanımlamaktır. Bu unsurlar, departmanlar, kişiler, faaliyetler veya sistemin diğer bileşenleri olabilir.\n",
    "\n",
    "##### - Karşılaştırma Matrisi Oluşturma: Sistemin unsurları arasındaki etkileşimleri ve geri bildirimleri değerlendirmek için bir karşılaştırma matrisi oluşturulur. Bu matriste, her bir unsur diğer her bir unsurla karşılaştırılır ve etkileşiminin derecesi bir sayısal değerle gösterilir.\n",
    "\n",
    "##### - Doğrudan ve Dolaylı Etki Matrisleri: Karşılaştırma matrisinden doğrudan ve dolaylı etki matrisleri hesaplanır. Doğrudan etki matrisi, bir unsurun diğer unsurlar üzerindeki doğrudan etkisini gösterir. Dolaylı etki matrisi ise bir unsurun diğer unsurlar üzerindeki dolaylı etkisini gösterir.\n",
    "\n",
    "##### - Toplam Etki Matrisi: Toplam etki matrisi, bir unsurun diğer unsurlar üzerindeki toplam etkisini (doğrudan ve dolaylı etkilerin toplamı) gösterir.\n",
    "\n",
    "##### - Görselleştirme: Dematel yönteminin sonuçları, bir ağ diyagramı kullanılarak görselleştirilebilir. Bu diyagram, sistemin unsurları arasındaki nedensellik ilişkilerini ve bunların etkilerini gösterir.\n",
    "\n",
    "#### Dematel Yönteminin Verdiği Sonuçlar:\n",
    "\n",
    "##### - Doğrudan etki matrisi: Bir unsurun diğer unsurlar üzerindeki doğrudan etkisini gösterir.\n",
    "##### - Dolaylı etki matrisi: Bir unsurun diğer unsurlar üzerindeki dolaylı etkisini gösterir.\n",
    "##### - Toplam etki matrisi: Bir unsurun diğer unsurlar üzerindeki toplam etkisini (doğrudan ve dolaylı etkilerin toplamı) gösterir.\n",
    "##### - Ağ diyagramı: Dematel yönteminin sonuçlarını görselleştiren bir diyagramdır.\n",
    "\n",
    "#### Dematel Yönteminin Sonuçlarının Yorumlanması:\n",
    "\n",
    "##### - Toplam etki matrisi: Her bir unsurun diğer unsurlar üzerindeki net etkisini (etki - etkilenen) gösterir.\n",
    "##### - Ağ diyagramı: Sistemin unsurları arasındaki nedensellik ilişkilerini ve bunların yönlerini gösterir.\n",
    "\n",
    "#### Dematel Yönteminin Sonuçlarının Kullanımı:\n",
    "\n",
    "##### - Bir sistemin unsurları arasındaki nedensellik ilişkilerini ve bunların etkilerini daha iyi anlamaya yardımcı olur.\n",
    "##### - Sistemin hangi unsurlarına odaklanılması gerektiğini belirlemeye yardımcı olur.\n",
    "##### - Sistemin performansını artırmak için stratejiler geliştirmeye yardımcı olur."
   ]
  },
  {
   "cell_type": "markdown",
   "id": "33d40b62",
   "metadata": {},
   "source": [
    "##### ___________________________________________________________________________________________________________\n",
    "##### ___________________________________________________________________________________________________________\n",
    "##### ___________________________________________________________________________________________________________\n",
    "##### ___________________________________________________________________________________________________________\n",
    "\n",
    "#### Örnek:\n",
    "\n",
    "##### Bir şirketin 5 departmanı olduğunu varsayalım:\n",
    "\n",
    "##### Pazarlama: Ürünlerin ve hizmetlerin potansiyel müşterilere tanıtılması ve satılması.\n",
    "##### Satış: Potansiyel müşterilerle iletişim kurmak ve satışları tamamlamak.\n",
    "##### Üretim: Ürünlerin tasarlanması, geliştirilmesi ve üretilmesi.\n",
    "##### Ar-Ge: Yeni ürünler ve hizmetler için araştırma ve geliştirme çalışmaları yapmak.\n",
    "##### Finans: Şirketin finansal kaynaklarını yönetmek."
   ]
  },
  {
   "cell_type": "code",
   "execution_count": 1,
   "id": "b9859d6d",
   "metadata": {},
   "outputs": [],
   "source": [
    "import numpy as np\n",
    "import pandas as pd"
   ]
  },
  {
   "cell_type": "code",
   "execution_count": 2,
   "id": "9f630512",
   "metadata": {},
   "outputs": [
    {
     "data": {
      "text/html": [
       "<div>\n",
       "<style scoped>\n",
       "    .dataframe tbody tr th:only-of-type {\n",
       "        vertical-align: middle;\n",
       "    }\n",
       "\n",
       "    .dataframe tbody tr th {\n",
       "        vertical-align: top;\n",
       "    }\n",
       "\n",
       "    .dataframe thead th {\n",
       "        text-align: right;\n",
       "    }\n",
       "</style>\n",
       "<table border=\"1\" class=\"dataframe\">\n",
       "  <thead>\n",
       "    <tr style=\"text-align: right;\">\n",
       "      <th></th>\n",
       "      <th>Pazarlama</th>\n",
       "      <th>Satış</th>\n",
       "      <th>Üretim</th>\n",
       "      <th>Ar-Ge</th>\n",
       "      <th>Finans</th>\n",
       "    </tr>\n",
       "  </thead>\n",
       "  <tbody>\n",
       "    <tr>\n",
       "      <th>Pazarlama</th>\n",
       "      <td>0</td>\n",
       "      <td>3</td>\n",
       "      <td>2</td>\n",
       "      <td>4</td>\n",
       "      <td>1</td>\n",
       "    </tr>\n",
       "    <tr>\n",
       "      <th>Satış</th>\n",
       "      <td>2</td>\n",
       "      <td>0</td>\n",
       "      <td>3</td>\n",
       "      <td>4</td>\n",
       "      <td>2</td>\n",
       "    </tr>\n",
       "    <tr>\n",
       "      <th>Üretim</th>\n",
       "      <td>1</td>\n",
       "      <td>2</td>\n",
       "      <td>0</td>\n",
       "      <td>3</td>\n",
       "      <td>2</td>\n",
       "    </tr>\n",
       "    <tr>\n",
       "      <th>Ar-Ge</th>\n",
       "      <td>4</td>\n",
       "      <td>3</td>\n",
       "      <td>2</td>\n",
       "      <td>0</td>\n",
       "      <td>1</td>\n",
       "    </tr>\n",
       "    <tr>\n",
       "      <th>Finans</th>\n",
       "      <td>3</td>\n",
       "      <td>1</td>\n",
       "      <td>2</td>\n",
       "      <td>4</td>\n",
       "      <td>0</td>\n",
       "    </tr>\n",
       "  </tbody>\n",
       "</table>\n",
       "</div>"
      ],
      "text/plain": [
       "           Pazarlama  Satış  Üretim  Ar-Ge  Finans\n",
       "Pazarlama          0      3       2      4       1\n",
       "Satış              2      0       3      4       2\n",
       "Üretim             1      2       0      3       2\n",
       "Ar-Ge              4      3       2      0       1\n",
       "Finans             3      1       2      4       0"
      ]
     },
     "execution_count": 2,
     "metadata": {},
     "output_type": "execute_result"
    }
   ],
   "source": [
    "data = np.array([\n",
    "    [0, 3, 2, 4, 1],\n",
    "    [2, 0, 3, 4, 2],\n",
    "    [1, 2, 0, 3, 2],\n",
    "    [4, 3, 2, 0, 1],\n",
    "    [3, 1, 2, 4, 0]\n",
    "])\n",
    "columns = [\"Pazarlama\", \"Satış\", \"Üretim\", \"Ar-Ge\", \"Finans\"]\n",
    "index = [\"Pazarlama\", \"Satış\", \"Üretim\", \"Ar-Ge\", \"Finans\"]\n",
    "df = pd.DataFrame(data, columns=columns, index=index)\n",
    "df"
   ]
  },
  {
   "cell_type": "code",
   "execution_count": 3,
   "id": "8e36fff0",
   "metadata": {},
   "outputs": [
    {
     "data": {
      "text/html": [
       "<div>\n",
       "<style scoped>\n",
       "    .dataframe tbody tr th:only-of-type {\n",
       "        vertical-align: middle;\n",
       "    }\n",
       "\n",
       "    .dataframe tbody tr th {\n",
       "        vertical-align: top;\n",
       "    }\n",
       "\n",
       "    .dataframe thead th {\n",
       "        text-align: right;\n",
       "    }\n",
       "</style>\n",
       "<table border=\"1\" class=\"dataframe\">\n",
       "  <thead>\n",
       "    <tr style=\"text-align: right;\">\n",
       "      <th></th>\n",
       "      <th>Pazarlama</th>\n",
       "      <th>Satış</th>\n",
       "      <th>Üretim</th>\n",
       "      <th>Ar-Ge</th>\n",
       "      <th>Finans</th>\n",
       "    </tr>\n",
       "  </thead>\n",
       "  <tbody>\n",
       "    <tr>\n",
       "      <th>Pazarlama</th>\n",
       "      <td>0</td>\n",
       "      <td>3</td>\n",
       "      <td>2</td>\n",
       "      <td>4</td>\n",
       "      <td>1</td>\n",
       "    </tr>\n",
       "    <tr>\n",
       "      <th>Satış</th>\n",
       "      <td>2</td>\n",
       "      <td>0</td>\n",
       "      <td>3</td>\n",
       "      <td>4</td>\n",
       "      <td>2</td>\n",
       "    </tr>\n",
       "    <tr>\n",
       "      <th>Üretim</th>\n",
       "      <td>1</td>\n",
       "      <td>2</td>\n",
       "      <td>0</td>\n",
       "      <td>3</td>\n",
       "      <td>2</td>\n",
       "    </tr>\n",
       "    <tr>\n",
       "      <th>Ar-Ge</th>\n",
       "      <td>4</td>\n",
       "      <td>3</td>\n",
       "      <td>2</td>\n",
       "      <td>0</td>\n",
       "      <td>1</td>\n",
       "    </tr>\n",
       "    <tr>\n",
       "      <th>Finans</th>\n",
       "      <td>3</td>\n",
       "      <td>1</td>\n",
       "      <td>2</td>\n",
       "      <td>4</td>\n",
       "      <td>0</td>\n",
       "    </tr>\n",
       "  </tbody>\n",
       "</table>\n",
       "</div>"
      ],
      "text/plain": [
       "           Pazarlama  Satış  Üretim  Ar-Ge  Finans\n",
       "Pazarlama          0      3       2      4       1\n",
       "Satış              2      0       3      4       2\n",
       "Üretim             1      2       0      3       2\n",
       "Ar-Ge              4      3       2      0       1\n",
       "Finans             3      1       2      4       0"
      ]
     },
     "execution_count": 3,
     "metadata": {},
     "output_type": "execute_result"
    }
   ],
   "source": [
    "df"
   ]
  },
  {
   "cell_type": "code",
   "execution_count": 4,
   "id": "b70f57f0",
   "metadata": {},
   "outputs": [],
   "source": [
    "D = np.zeros_like(data, dtype=float)\n",
    "for i in range(data.shape[0]):\n",
    "    for j in range(data.shape[1]):\n",
    "        if i != j:\n",
    "            D[i, j] = data[i, j] - data[j, i]\n",
    "\n",
    "positives = np.maximum(D, 0)\n",
    "negatives = np.maximum(-D, 0)\n",
    "total_positive = np.sum(positives, axis=1)\n",
    "total_negative = np.sum(negatives, axis=1)\n",
    "D_positive = total_positive / (total_positive + total_negative)\n",
    "D_negative = total_negative / (total_positive + total_negative)"
   ]
  },
  {
   "cell_type": "code",
   "execution_count": 5,
   "id": "cee91618",
   "metadata": {
    "scrolled": true
   },
   "outputs": [
    {
     "name": "stdout",
     "output_type": "stream",
     "text": [
      "Departmanlar arasındaki Dematel Pozitif Endeksleri:\n",
      "Pazarlama: 0.5\n",
      "Satış: 0.75\n",
      "Üretim: 0.3333333333333333\n",
      "Ar-Ge: 0.0\n",
      "Finans: 0.8333333333333334\n"
     ]
    }
   ],
   "source": [
    "print(\"Departmanlar arasındaki Dematel Pozitif Endeksleri:\")\n",
    "for i, department in enumerate([\"Pazarlama\", \"Satış\", \"Üretim\", \"Ar-Ge\", \"Finans\"]):\n",
    "    print(f\"{department}: {D_positive[i]}\")"
   ]
  },
  {
   "cell_type": "markdown",
   "id": "85816407",
   "metadata": {},
   "source": [
    "##### - Pazarlama: Diğer departmanlarla olan olumlu etkileşimi orta düzeydedir (0.5). Bu, pazarlama departmanının diğer departmanlarla ortalama düzeyde işbirliği yapabildiğini gösterir.\n",
    "\n",
    "##### - Satış: Satış departmanı diğer departmanlarla daha güçlü bir olumlu etkileşime sahiptir (0.75). Bu, satış departmanının diğer departmanlarla daha sıkı bir işbirliği içinde olduğunu ve daha fazla sinerji yaratabileceğini gösterir.\n",
    "\n",
    "##### - Üretim: Üretim departmanı, diğer departmanlarla olan olumlu etkileşimi düşük bir seviyede tutmaktadır (0.333). Bu, üretim departmanının diğer departmanlarla daha az işbirliği içinde olduğunu ve daha az etkileşimde bulunduğunu gösterir.\n",
    "\n",
    "##### - Ar-Ge: Ar-Ge departmanı, diğer departmanlarla herhangi bir olumlu etkileşime sahip değildir (0.0). Bu, Ar-Ge departmanının diğer departmanlarla işbirliği yapmadığını veya etkileşimde bulunmadığını gösterir.\n",
    "\n",
    "##### - Finans: Finans departmanı, diğer departmanlarla en güçlü olumlu etkileşime sahip olan departmandır (0.833). Bu, finans departmanının diğer departmanlarla sıkı bir işbirliği içinde olduğunu ve büyük ölçüde sinerji yarattığını gösterir."
   ]
  },
  {
   "cell_type": "markdown",
   "id": "63d307e1",
   "metadata": {},
   "source": [
    "##### ___________________________________________________________________________________________________________\n",
    "##### ___________________________________________________________________________________________________________\n",
    "##### ___________________________________________________________________________________________________________"
   ]
  },
  {
   "cell_type": "code",
   "execution_count": 6,
   "id": "61d2a4c2",
   "metadata": {
    "scrolled": false
   },
   "outputs": [
    {
     "name": "stdout",
     "output_type": "stream",
     "text": [
      "\n",
      "Departmanlar arasındaki Dematel Negatif Endeksleri:\n",
      "Pazarlama: 0.5\n",
      "Satış: 0.25\n",
      "Üretim: 0.6666666666666666\n",
      "Ar-Ge: 1.0\n",
      "Finans: 0.16666666666666666\n"
     ]
    }
   ],
   "source": [
    "print(\"\\nDepartmanlar arasındaki Dematel Negatif Endeksleri:\")\n",
    "for i, department in enumerate([\"Pazarlama\", \"Satış\", \"Üretim\", \"Ar-Ge\", \"Finans\"]):\n",
    "    print(f\"{department}: {D_negative[i]}\")"
   ]
  },
  {
   "cell_type": "markdown",
   "id": "7ab46281",
   "metadata": {},
   "source": [
    "#### Pazarlama: \n",
    "##### - Pazarlama departmanı diğer departmanlarla orta düzeyde olumsuz etkileşime sahiptir (0.5). Bu, pazarlama departmanının diğer departmanlarla bazı olumsuz etkileşimler yaşadığını ancak genel olarak uyumlu olduğunu gösterir.\n",
    "\n",
    "####  Satış: \n",
    "##### - Satış departmanı diğer departmanlarla daha az olumsuz etkileşime sahiptir (0.25). Bu, satış departmanının diğer departmanlarla daha az sorun yaşadığını ve uyumlu bir şekilde çalıştığını gösterir.\n",
    "\n",
    "#### Üretim: \n",
    "##### - Üretim departmanı diğer departmanlarla daha yüksek bir olumsuz etkileşime sahiptir (0.667). Bu, üretim departmanının diğer departmanlarla daha fazla sorun yaşadığını ve uyumlu olmayabileceğini gösterir.\n",
    "\n",
    "#### Ar-Ge: \n",
    "##### - Ar-Ge departmanı diğer departmanlarla tamamen olumsuz etkileşime sahiptir (1.0). Bu, Ar-Ge departmanının diğer departmanlarla uyumsuz olduğunu ve çatışma yaşadığını gösterir.\n",
    "\n",
    "#### Finans:\n",
    "##### -Finans departmanı diğer departmanlarla en az olumsuz etkileşime sahip olan departmandır (0.167). Bu, finans departmanının diğer departmanlarla uyumlu olduğunu ve genel olarak az sorun yaşadığını gösterir."
   ]
  }
 ],
 "metadata": {
  "kernelspec": {
   "display_name": "Python 3 (ipykernel)",
   "language": "python",
   "name": "python3"
  },
  "language_info": {
   "codemirror_mode": {
    "name": "ipython",
    "version": 3
   },
   "file_extension": ".py",
   "mimetype": "text/x-python",
   "name": "python",
   "nbconvert_exporter": "python",
   "pygments_lexer": "ipython3",
   "version": "3.11.5"
  }
 },
 "nbformat": 4,
 "nbformat_minor": 5
}
